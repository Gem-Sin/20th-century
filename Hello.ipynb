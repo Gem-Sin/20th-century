{
 "cells": [
  {
   "cell_type": "code",
   "execution_count": 1,
   "id": "75d4d3ea-c3a2-453b-b236-8123e758b311",
   "metadata": {},
   "outputs": [
    {
     "name": "stdout",
     "output_type": "stream",
     "text": [
      "Sum =  2\n"
     ]
    }
   ],
   "source": [
    "a = 1\n",
    "b = 1\n",
    "c = 1 + 1\n",
    "print (\"Sum = \", c)"
   ]
  },
  {
   "cell_type": "code",
   "execution_count": 2,
   "id": "f721e47d-1f2c-40a2-a516-3351cec2c734",
   "metadata": {},
   "outputs": [
    {
     "name": "stdout",
     "output_type": "stream",
     "text": [
      "Hello, my name is Sophie\n"
     ]
    }
   ],
   "source": [
    "print (\"Hello, my name is Sophie\")"
   ]
  },
  {
   "cell_type": "code",
   "execution_count": null,
   "id": "d1e02d46-057b-4e2e-9058-fb0838632030",
   "metadata": {},
   "outputs": [],
   "source": []
  }
 ],
 "metadata": {
  "kernelspec": {
   "display_name": "Python [conda env:base] *",
   "language": "python",
   "name": "conda-base-py"
  },
  "language_info": {
   "codemirror_mode": {
    "name": "ipython",
    "version": 3
   },
   "file_extension": ".py",
   "mimetype": "text/x-python",
   "name": "python",
   "nbconvert_exporter": "python",
   "pygments_lexer": "ipython3",
   "version": "3.12.7"
  }
 },
 "nbformat": 4,
 "nbformat_minor": 5
}
