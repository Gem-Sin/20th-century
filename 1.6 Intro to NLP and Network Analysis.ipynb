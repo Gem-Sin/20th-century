{
 "cells": [
  {
   "cell_type": "markdown",
   "id": "8f0649e3-e694-41dc-8072-4060a306623d",
   "metadata": {},
   "source": [
    "# This script contains the following:\n",
    "## 1. Import libraries and data\n",
    "## 2. Wrangling\n",
    "## 3. Create NER object and split sentences\n",
    "## 4. Filter entities\n",
    "## 5. Build relationships"
   ]
  },
  {
   "cell_type": "markdown",
   "id": "edfa2696-532b-4293-ae81-73df8657ff1d",
   "metadata": {},
   "source": [
    "### 1. Import libraries and data"
   ]
  },
  {
   "cell_type": "code",
   "execution_count": 2,
   "id": "9f4b7c10-2cf1-41c3-8d54-13ed634a252f",
   "metadata": {},
   "outputs": [
    {
     "name": "stderr",
     "output_type": "stream",
     "text": [
      "/opt/anaconda3/envs/20th_century/lib/python3.9/site-packages/spacy/cli/info.py:3: UserWarning: pkg_resources is deprecated as an API. See https://setuptools.pypa.io/en/latest/pkg_resources.html. The pkg_resources package is slated for removal as early as 2025-11-30. Refrain from using this package or pin to Setuptools<81.\n",
      "  import pkg_resources\n"
     ]
    },
    {
     "name": "stdout",
     "output_type": "stream",
     "text": [
      "Libraries imported and spaCy model loaded successfully!\n"
     ]
    }
   ],
   "source": [
    "# Import libraries\n",
    "import pandas as pd\n",
    "import numpy as np\n",
    "import spacy\n",
    "from spacy import displacy\n",
    "import networkx as nx\n",
    "import os\n",
    "import matplotlib.pyplot as plt\n",
    "import scipy\n",
    "import re\n",
    "from collections import Counter\n",
    "\n",
    "# Load spaCy English model\n",
    "nlp = spacy.load(\"en_core_web_sm\")\n",
    "\n",
    "print(\"Libraries imported and spaCy model loaded successfully!\")\n"
   ]
  },
  {
   "cell_type": "code",
   "execution_count": 3,
   "id": "822bd211-03a7-49d1-8ac7-0b3d6cc672c1",
   "metadata": {},
   "outputs": [
    {
     "name": "stdout",
     "output_type": "stream",
     "text": [
      "spaCy version: 3.4.3\n",
      "NetworkX version: 2.8.8\n",
      "Matplotlib version: 3.6.2\n",
      "SciPy version: 1.9.3\n"
     ]
    }
   ],
   "source": [
    "# Check versions to ensure correct setup in the terminal\n",
    "print(\"spaCy version:\", spacy.__version__)\n",
    "print(\"NetworkX version:\", nx.__version__)\n",
    "import matplotlib\n",
    "print(\"Matplotlib version:\", matplotlib.__version__)\n",
    "import scipy\n",
    "print(\"SciPy version:\", scipy.__version__)\n"
   ]
  },
  {
   "cell_type": "code",
   "execution_count": 4,
   "id": "e680436f-bdfc-45fd-b7d4-9b890b4cc072",
   "metadata": {},
   "outputs": [],
   "source": [
    "# Load the 20th-century text file\n",
    "\n",
    "with open(\"key_events_20th_century.txt\", \"r\", encoding=\"utf-8\") as f:\n",
    "    text = f.read()\n"
   ]
  },
  {
   "cell_type": "code",
   "execution_count": 5,
   "id": "6db97e8e-d373-4a56-b38b-c2b8a4a3b033",
   "metadata": {
    "scrolled": true
   },
   "outputs": [
    {
     "name": "stdout",
     "output_type": "stream",
     "text": [
      "Characters in text: 108157\n",
      "\n",
      "--- Preview ---\n",
      "\n",
      "The\n",
      "20th century\n",
      "changed the world in unprecedented ways. The\n",
      "World Wars\n",
      "sparked tension between countries and led to the creation of\n",
      "atomic bombs\n",
      ", the\n",
      "Cold War\n",
      "led to the\n",
      "Space Race\n",
      "and the creation of space-based rockets, and the\n",
      "World Wide Web\n",
      "was created. These advancements have played a significant role in citizens' lives and shaped the\n",
      "21st century\n",
      "into what it is today.\n",
      "Historic events in the 20th century\n",
      "World at the beginning of the century\n",
      "Main article:\n",
      "Edwardian era\n",
      "The new beginning of the 20th century marked significant changes. The 1900s saw the decade herald a series of inventions, including the\n",
      "automobile\n",
      ",\n",
      "airplane\n",
      "and\n",
      "radio broadcasting\n",
      ". 1914 saw the completion of the\n",
      "Panama Canal\n",
      ".\n",
      "The\n",
      "Scramble for Africa\n",
      "continued in the 1900s and resulted in wars and genocide across \n"
     ]
    }
   ],
   "source": [
    "# Quick check\n",
    "print(\"Characters in text:\", len(text))\n",
    "print(\"\\n--- Preview ---\\n\")\n",
    "print(text[:800])"
   ]
  },
  {
   "cell_type": "code",
   "execution_count": 6,
   "id": "37366675-19b6-46da-a0d7-44d6a0dbfdf3",
   "metadata": {},
   "outputs": [],
   "source": [
    "# Create path\n",
    "path = r'/Users/ianfleming/20th-century'"
   ]
  },
  {
   "cell_type": "code",
   "execution_count": 8,
   "id": "0aaab1f8-721c-47d0-8a21-ee324c42dd48",
   "metadata": {},
   "outputs": [],
   "source": [
    "# Import cleaned countries dataframe\n",
    "df_countries = pd.read_csv(os.path.join(path, 'country_mentions.csv'), index_col=0)\n"
   ]
  },
  {
   "cell_type": "code",
   "execution_count": 9,
   "id": "88e1f4fb-0ad6-4434-ad15-b24751389fe2",
   "metadata": {},
   "outputs": [
    {
     "data": {
      "text/html": [
       "<div>\n",
       "<style scoped>\n",
       "    .dataframe tbody tr th:only-of-type {\n",
       "        vertical-align: middle;\n",
       "    }\n",
       "\n",
       "    .dataframe tbody tr th {\n",
       "        vertical-align: top;\n",
       "    }\n",
       "\n",
       "    .dataframe thead th {\n",
       "        text-align: right;\n",
       "    }\n",
       "</style>\n",
       "<table border=\"1\" class=\"dataframe\">\n",
       "  <thead>\n",
       "    <tr style=\"text-align: right;\">\n",
       "      <th></th>\n",
       "      <th>Count</th>\n",
       "    </tr>\n",
       "    <tr>\n",
       "      <th>Country</th>\n",
       "      <th></th>\n",
       "    </tr>\n",
       "  </thead>\n",
       "  <tbody>\n",
       "    <tr>\n",
       "      <th>germany</th>\n",
       "      <td>38</td>\n",
       "    </tr>\n",
       "    <tr>\n",
       "      <th>japan</th>\n",
       "      <td>31</td>\n",
       "    </tr>\n",
       "    <tr>\n",
       "      <th>united states</th>\n",
       "      <td>22</td>\n",
       "    </tr>\n",
       "    <tr>\n",
       "      <th>france</th>\n",
       "      <td>17</td>\n",
       "    </tr>\n",
       "    <tr>\n",
       "      <th>poland</th>\n",
       "      <td>13</td>\n",
       "    </tr>\n",
       "  </tbody>\n",
       "</table>\n",
       "</div>"
      ],
      "text/plain": [
       "               Count\n",
       "Country             \n",
       "germany           38\n",
       "japan             31\n",
       "united states     22\n",
       "france            17\n",
       "poland            13"
      ]
     },
     "execution_count": 9,
     "metadata": {},
     "output_type": "execute_result"
    }
   ],
   "source": [
    "# Check import\n",
    "df_countries.head()"
   ]
  },
  {
   "cell_type": "markdown",
   "id": "23757b75-3b2b-4295-9ffd-dce971625063",
   "metadata": {},
   "source": [
    "### 2. Wrangling"
   ]
  },
  {
   "cell_type": "code",
   "execution_count": 10,
   "id": "06869bef-d075-4d66-a005-9ccc46d33a6f",
   "metadata": {},
   "outputs": [],
   "source": [
    "# Clean key_events_20th_century\n",
    "text_clean = (\n",
    "    text.replace('\\n', ' ')           \n",
    "         .replace('\\r', ' ')         \n",
    "         .strip()                   \n",
    ")\n"
   ]
  },
  {
   "cell_type": "code",
   "execution_count": 11,
   "id": "ce4992c9-84e2-4b45-af0c-8aa433c65c7d",
   "metadata": {},
   "outputs": [
    {
     "name": "stdout",
     "output_type": "stream",
     "text": [
      "Characters in cleaned text: 108157\n",
      "\n",
      "Preview:\n",
      " The 20th century changed the world in unprecedented ways. The World Wars sparked tension between countries and led to the creation of atomic bombs , the Cold War led to the Space Race and the creation of space-based rockets, and the World Wide Web was created. These advancements have played a significant role in citizens' lives and shaped the 21st century into what it is today. Historic events in the 20th century World at the beginning of the century Main article: Edwardian era The new beginning\n"
     ]
    }
   ],
   "source": [
    "# Quick check\n",
    "print(\"Characters in cleaned text:\", len(text_clean))\n",
    "print(\"\\nPreview:\\n\", text_clean[:500])"
   ]
  },
  {
   "cell_type": "markdown",
   "id": "d1c9b4d1-edd6-468e-b5f2-151963ec6654",
   "metadata": {},
   "source": [
    "The text didn’t need much cleaning. I just removed a few extra line breaks and spaces and made sure everything was in lowercase to match my country list. There weren’t any special characters or strange symbols. After that, I saved the cleaned version as a .txt file to use for the next steps"
   ]
  },
  {
   "cell_type": "markdown",
   "id": "fb843a8f-5afc-4d28-9648-348e49af91fe",
   "metadata": {},
   "source": [
    "### 3. Create NER object and split sentences"
   ]
  },
  {
   "cell_type": "code",
   "execution_count": 12,
   "id": "291cf349-629f-419d-9ad7-3b1131700110",
   "metadata": {},
   "outputs": [],
   "source": [
    "# Create NER object\n",
    "doc = nlp(text_clean)"
   ]
  },
  {
   "cell_type": "code",
   "execution_count": 13,
   "id": "4d596e49-a0b4-411d-b5f5-5382e0a9ba8c",
   "metadata": {},
   "outputs": [],
   "source": [
    "# Split into sentences\n",
    "sentences = list(doc.sents)"
   ]
  },
  {
   "cell_type": "code",
   "execution_count": 14,
   "id": "1a3d676d-b7ec-4d7e-80f9-97687a73baa7",
   "metadata": {},
   "outputs": [
    {
     "name": "stdout",
     "output_type": "stream",
     "text": [
      "Sentences detected: 1659\n",
      "\n",
      "Preview of first sentence:\n",
      "\n",
      "The 20th century changed the world in unprecedented ways.\n"
     ]
    }
   ],
   "source": [
    "# Check\n",
    "\n",
    "print(\"Sentences detected:\", len(sentences))\n",
    "print(\"\\nPreview of first sentence:\\n\")\n",
    "print(sentences[0].text[:300])"
   ]
  },
  {
   "cell_type": "code",
   "execution_count": 15,
   "id": "b19b983c-0a7b-45d7-b2bf-44b8b7d3a20b",
   "metadata": {},
   "outputs": [],
   "source": [
    "# Build a one row per sentence dataframe\n",
    "df_sentences = []\n",
    "for s in sentences:\n",
    "    entity_list = [ent.text for ent in s.ents]  \n",
    "    df_sentences.append({\"sentence\": s.text, \"entities\": entity_list})"
   ]
  },
  {
   "cell_type": "code",
   "execution_count": 16,
   "id": "c84f50e0-b29e-49b2-82ad-c4707abf450d",
   "metadata": {},
   "outputs": [],
   "source": [
    "# Create dataframe\n",
    "df_sentences = pd.DataFrame(df_sentences)\n"
   ]
  },
  {
   "cell_type": "code",
   "execution_count": 17,
   "id": "12c91153-8261-4cc7-805b-a59dfb5d5a22",
   "metadata": {},
   "outputs": [
    {
     "data": {
      "text/html": [
       "<div>\n",
       "<style scoped>\n",
       "    .dataframe tbody tr th:only-of-type {\n",
       "        vertical-align: middle;\n",
       "    }\n",
       "\n",
       "    .dataframe tbody tr th {\n",
       "        vertical-align: top;\n",
       "    }\n",
       "\n",
       "    .dataframe thead th {\n",
       "        text-align: right;\n",
       "    }\n",
       "</style>\n",
       "<table border=\"1\" class=\"dataframe\">\n",
       "  <thead>\n",
       "    <tr style=\"text-align: right;\">\n",
       "      <th></th>\n",
       "      <th>sentence</th>\n",
       "      <th>entities</th>\n",
       "    </tr>\n",
       "  </thead>\n",
       "  <tbody>\n",
       "    <tr>\n",
       "      <th>0</th>\n",
       "      <td>The 20th century changed the world in unpreced...</td>\n",
       "      <td>[The 20th century]</td>\n",
       "    </tr>\n",
       "    <tr>\n",
       "      <th>1</th>\n",
       "      <td>The World Wars sparked tension between countri...</td>\n",
       "      <td>[the Cold War, the Space Race]</td>\n",
       "    </tr>\n",
       "    <tr>\n",
       "      <th>2</th>\n",
       "      <td>These advancements have played a significant r...</td>\n",
       "      <td>[the 21st century, today]</td>\n",
       "    </tr>\n",
       "    <tr>\n",
       "      <th>3</th>\n",
       "      <td>Historic events in the 20th century World at t...</td>\n",
       "      <td>[the 20th century, the beginning of the centur...</td>\n",
       "    </tr>\n",
       "    <tr>\n",
       "      <th>4</th>\n",
       "      <td>Edwardian era The new beginning of the 20th ce...</td>\n",
       "      <td>[Edwardian, the 20th century]</td>\n",
       "    </tr>\n",
       "  </tbody>\n",
       "</table>\n",
       "</div>"
      ],
      "text/plain": [
       "                                            sentence  \\\n",
       "0  The 20th century changed the world in unpreced...   \n",
       "1  The World Wars sparked tension between countri...   \n",
       "2  These advancements have played a significant r...   \n",
       "3  Historic events in the 20th century World at t...   \n",
       "4  Edwardian era The new beginning of the 20th ce...   \n",
       "\n",
       "                                            entities  \n",
       "0                                 [The 20th century]  \n",
       "1                     [the Cold War, the Space Race]  \n",
       "2                          [the 21st century, today]  \n",
       "3  [the 20th century, the beginning of the centur...  \n",
       "4                      [Edwardian, the 20th century]  "
      ]
     },
     "execution_count": 17,
     "metadata": {},
     "output_type": "execute_result"
    }
   ],
   "source": [
    "# Check\n",
    "df_sentences.head(5)"
   ]
  },
  {
   "cell_type": "markdown",
   "id": "ae62c138-546b-4f18-ae8c-24f69d01b3f8",
   "metadata": {},
   "source": [
    "### 4. Filter Entities"
   ]
  },
  {
   "cell_type": "code",
   "execution_count": 18,
   "id": "c8653dcd-e280-438e-9ffd-f56b93fe7edd",
   "metadata": {},
   "outputs": [],
   "source": [
    "def norm(s: str) -> str:\n",
    "    return re.sub(r\"\\s+\", \" \", s.strip().lower())"
   ]
  },
  {
   "cell_type": "code",
   "execution_count": 19,
   "id": "e403fdde-6ae0-43ee-bf27-510c2f163dd4",
   "metadata": {},
   "outputs": [
    {
     "ename": "KeyError",
     "evalue": "'Country'",
     "output_type": "error",
     "traceback": [
      "\u001b[0;31m---------------------------------------------------------------------------\u001b[0m",
      "\u001b[0;31mKeyError\u001b[0m                                  Traceback (most recent call last)",
      "File \u001b[0;32m/opt/anaconda3/envs/20th_century/lib/python3.9/site-packages/pandas/core/indexes/base.py:3803\u001b[0m, in \u001b[0;36mIndex.get_loc\u001b[0;34m(self, key, method, tolerance)\u001b[0m\n\u001b[1;32m   3802\u001b[0m \u001b[38;5;28;01mtry\u001b[39;00m:\n\u001b[0;32m-> 3803\u001b[0m     \u001b[38;5;28;01mreturn\u001b[39;00m \u001b[38;5;28;43mself\u001b[39;49m\u001b[38;5;241;43m.\u001b[39;49m\u001b[43m_engine\u001b[49m\u001b[38;5;241;43m.\u001b[39;49m\u001b[43mget_loc\u001b[49m\u001b[43m(\u001b[49m\u001b[43mcasted_key\u001b[49m\u001b[43m)\u001b[49m\n\u001b[1;32m   3804\u001b[0m \u001b[38;5;28;01mexcept\u001b[39;00m \u001b[38;5;167;01mKeyError\u001b[39;00m \u001b[38;5;28;01mas\u001b[39;00m err:\n",
      "File \u001b[0;32m/opt/anaconda3/envs/20th_century/lib/python3.9/site-packages/pandas/_libs/index.pyx:138\u001b[0m, in \u001b[0;36mpandas._libs.index.IndexEngine.get_loc\u001b[0;34m()\u001b[0m\n",
      "File \u001b[0;32m/opt/anaconda3/envs/20th_century/lib/python3.9/site-packages/pandas/_libs/index.pyx:165\u001b[0m, in \u001b[0;36mpandas._libs.index.IndexEngine.get_loc\u001b[0;34m()\u001b[0m\n",
      "File \u001b[0;32mpandas/_libs/hashtable_class_helper.pxi:5745\u001b[0m, in \u001b[0;36mpandas._libs.hashtable.PyObjectHashTable.get_item\u001b[0;34m()\u001b[0m\n",
      "File \u001b[0;32mpandas/_libs/hashtable_class_helper.pxi:5753\u001b[0m, in \u001b[0;36mpandas._libs.hashtable.PyObjectHashTable.get_item\u001b[0;34m()\u001b[0m\n",
      "\u001b[0;31mKeyError\u001b[0m: 'Country'",
      "\nThe above exception was the direct cause of the following exception:\n",
      "\u001b[0;31mKeyError\u001b[0m                                  Traceback (most recent call last)",
      "Cell \u001b[0;32mIn[19], line 2\u001b[0m\n\u001b[1;32m      1\u001b[0m \u001b[38;5;66;03m# Build lookup dict from countries\u001b[39;00m\n\u001b[0;32m----> 2\u001b[0m country_lookup \u001b[38;5;241m=\u001b[39m \u001b[38;5;28mset\u001b[39m(\u001b[43mdf_countries\u001b[49m\u001b[43m[\u001b[49m\u001b[38;5;124;43m\"\u001b[39;49m\u001b[38;5;124;43mCountry\u001b[39;49m\u001b[38;5;124;43m\"\u001b[39;49m\u001b[43m]\u001b[49m\u001b[38;5;241m.\u001b[39mmap(norm))\n",
      "File \u001b[0;32m/opt/anaconda3/envs/20th_century/lib/python3.9/site-packages/pandas/core/frame.py:3804\u001b[0m, in \u001b[0;36mDataFrame.__getitem__\u001b[0;34m(self, key)\u001b[0m\n\u001b[1;32m   3802\u001b[0m \u001b[38;5;28;01mif\u001b[39;00m \u001b[38;5;28mself\u001b[39m\u001b[38;5;241m.\u001b[39mcolumns\u001b[38;5;241m.\u001b[39mnlevels \u001b[38;5;241m>\u001b[39m \u001b[38;5;241m1\u001b[39m:\n\u001b[1;32m   3803\u001b[0m     \u001b[38;5;28;01mreturn\u001b[39;00m \u001b[38;5;28mself\u001b[39m\u001b[38;5;241m.\u001b[39m_getitem_multilevel(key)\n\u001b[0;32m-> 3804\u001b[0m indexer \u001b[38;5;241m=\u001b[39m \u001b[38;5;28;43mself\u001b[39;49m\u001b[38;5;241;43m.\u001b[39;49m\u001b[43mcolumns\u001b[49m\u001b[38;5;241;43m.\u001b[39;49m\u001b[43mget_loc\u001b[49m\u001b[43m(\u001b[49m\u001b[43mkey\u001b[49m\u001b[43m)\u001b[49m\n\u001b[1;32m   3805\u001b[0m \u001b[38;5;28;01mif\u001b[39;00m is_integer(indexer):\n\u001b[1;32m   3806\u001b[0m     indexer \u001b[38;5;241m=\u001b[39m [indexer]\n",
      "File \u001b[0;32m/opt/anaconda3/envs/20th_century/lib/python3.9/site-packages/pandas/core/indexes/base.py:3805\u001b[0m, in \u001b[0;36mIndex.get_loc\u001b[0;34m(self, key, method, tolerance)\u001b[0m\n\u001b[1;32m   3803\u001b[0m     \u001b[38;5;28;01mreturn\u001b[39;00m \u001b[38;5;28mself\u001b[39m\u001b[38;5;241m.\u001b[39m_engine\u001b[38;5;241m.\u001b[39mget_loc(casted_key)\n\u001b[1;32m   3804\u001b[0m \u001b[38;5;28;01mexcept\u001b[39;00m \u001b[38;5;167;01mKeyError\u001b[39;00m \u001b[38;5;28;01mas\u001b[39;00m err:\n\u001b[0;32m-> 3805\u001b[0m     \u001b[38;5;28;01mraise\u001b[39;00m \u001b[38;5;167;01mKeyError\u001b[39;00m(key) \u001b[38;5;28;01mfrom\u001b[39;00m\u001b[38;5;250m \u001b[39m\u001b[38;5;21;01merr\u001b[39;00m\n\u001b[1;32m   3806\u001b[0m \u001b[38;5;28;01mexcept\u001b[39;00m \u001b[38;5;167;01mTypeError\u001b[39;00m:\n\u001b[1;32m   3807\u001b[0m     \u001b[38;5;66;03m# If we have a listlike key, _check_indexing_error will raise\u001b[39;00m\n\u001b[1;32m   3808\u001b[0m     \u001b[38;5;66;03m#  InvalidIndexError. Otherwise we fall through and re-raise\u001b[39;00m\n\u001b[1;32m   3809\u001b[0m     \u001b[38;5;66;03m#  the TypeError.\u001b[39;00m\n\u001b[1;32m   3810\u001b[0m     \u001b[38;5;28mself\u001b[39m\u001b[38;5;241m.\u001b[39m_check_indexing_error(key)\n",
      "\u001b[0;31mKeyError\u001b[0m: 'Country'"
     ]
    }
   ],
   "source": [
    "# Build lookup dict from countries\n",
    "country_lookup = set(df_countries[\"Country\"].map(norm))"
   ]
  },
  {
   "cell_type": "code",
   "execution_count": 20,
   "id": "284718ee-ace7-4035-853f-d08b0d20c60a",
   "metadata": {},
   "outputs": [
    {
     "name": "stdout",
     "output_type": "stream",
     "text": [
      "Index(['Count'], dtype='object')\n",
      "               Count\n",
      "Country             \n",
      "germany           38\n",
      "japan             31\n",
      "united states     22\n",
      "france            17\n",
      "poland            13\n"
     ]
    }
   ],
   "source": [
    "print(df_countries.columns)\n",
    "print(df_countries.head())\n"
   ]
  },
  {
   "cell_type": "markdown",
   "id": "90283a28-60e5-4c0b-8e98-09d7707ae0aa",
   "metadata": {},
   "source": [
    "I can see that \"Country\" is not a column so I need to set it"
   ]
  },
  {
   "cell_type": "code",
   "execution_count": 21,
   "id": "eec46d52-806f-4234-a8e5-07917d6b444d",
   "metadata": {},
   "outputs": [
    {
     "name": "stdout",
     "output_type": "stream",
     "text": [
      "Index(['Country', 'Count'], dtype='object')\n",
      "         Country  Count\n",
      "0        germany     38\n",
      "1          japan     31\n",
      "2  united states     22\n",
      "3         france     17\n",
      "4         poland     13\n"
     ]
    }
   ],
   "source": [
    "# Reset index\n",
    "df_countries = df_countries.reset_index().rename(columns={\"index\": \"Country\"})\n",
    "print(df_countries.columns)\n",
    "print(df_countries.head())"
   ]
  },
  {
   "cell_type": "code",
   "execution_count": 22,
   "id": "1c29dbfe-fb8a-437c-bb38-79a21845c77c",
   "metadata": {},
   "outputs": [],
   "source": [
    "# Build dict\n",
    "country_lookup = set(df_countries[\"Country\"].map(norm))\n"
   ]
  },
  {
   "cell_type": "code",
   "execution_count": 23,
   "id": "c1c5df62-2614-4c7e-bc5f-7c16c67886d2",
   "metadata": {},
   "outputs": [],
   "source": [
    "def keep_countries(ents):\n",
    "    return [e for e in ents if norm(e) in country_lookup]"
   ]
  },
  {
   "cell_type": "code",
   "execution_count": 24,
   "id": "7c650780-c425-432d-956c-7936aea983cb",
   "metadata": {},
   "outputs": [],
   "source": [
    "df_sentences[\"country_entities\"] = df_sentences[\"entities\"].apply(keep_countries)"
   ]
  },
  {
   "cell_type": "code",
   "execution_count": 25,
   "id": "fae69836-c18f-4de5-aa4d-d1ffa8044660",
   "metadata": {},
   "outputs": [],
   "source": [
    "df_sentences_filtered = df_sentences[df_sentences[\"country_entities\"].map(len) > 0].reset_index(drop=True)\n"
   ]
  },
  {
   "cell_type": "code",
   "execution_count": 26,
   "id": "02484af4-4e65-4bc1-bf0d-328cb90936d5",
   "metadata": {},
   "outputs": [
    {
     "name": "stdout",
     "output_type": "stream",
     "text": [
      "Sentences with ≥1 country: 144\n"
     ]
    }
   ],
   "source": [
    "print(\"Sentences with ≥1 country:\", len(df_sentences_filtered))"
   ]
  },
  {
   "cell_type": "code",
   "execution_count": 27,
   "id": "904968bf-c3fd-4025-a97f-4f969c74031c",
   "metadata": {},
   "outputs": [
    {
     "data": {
      "text/html": [
       "<div>\n",
       "<style scoped>\n",
       "    .dataframe tbody tr th:only-of-type {\n",
       "        vertical-align: middle;\n",
       "    }\n",
       "\n",
       "    .dataframe tbody tr th {\n",
       "        vertical-align: top;\n",
       "    }\n",
       "\n",
       "    .dataframe thead th {\n",
       "        text-align: right;\n",
       "    }\n",
       "</style>\n",
       "<table border=\"1\" class=\"dataframe\">\n",
       "  <thead>\n",
       "    <tr style=\"text-align: right;\">\n",
       "      <th></th>\n",
       "      <th>sentence</th>\n",
       "      <th>entities</th>\n",
       "      <th>country_entities</th>\n",
       "    </tr>\n",
       "  </thead>\n",
       "  <tbody>\n",
       "    <tr>\n",
       "      <th>0</th>\n",
       "      <td>After a period of diplomatic and military esca...</td>\n",
       "      <td>[the July Crisis, the end of July 1914, the Br...</td>\n",
       "      <td>[France, Austria, Hungary]</td>\n",
       "    </tr>\n",
       "    <tr>\n",
       "      <th>1</th>\n",
       "      <td>In 1917, Russia ended hostile actions against ...</td>\n",
       "      <td>[1917, Russia, the Central Powers, Tsar]</td>\n",
       "      <td>[Russia]</td>\n",
       "    </tr>\n",
       "    <tr>\n",
       "      <th>2</th>\n",
       "      <td>The Bolsheviks negotiated the Treaty of Brest-...</td>\n",
       "      <td>[the Treaty of Brest-Litovsk, Germany, Russia]</td>\n",
       "      <td>[Germany, Russia]</td>\n",
       "    </tr>\n",
       "    <tr>\n",
       "      <th>3</th>\n",
       "      <td>In the treaty, Bolshevik Russia ceded the Balt...</td>\n",
       "      <td>[Bolshevik Russia, Baltic, Germany, Kars Oblas...</td>\n",
       "      <td>[Germany]</td>\n",
       "    </tr>\n",
       "    <tr>\n",
       "      <th>4</th>\n",
       "      <td>It also recognized the independence of Ukraine .</td>\n",
       "      <td>[Ukraine]</td>\n",
       "      <td>[Ukraine]</td>\n",
       "    </tr>\n",
       "  </tbody>\n",
       "</table>\n",
       "</div>"
      ],
      "text/plain": [
       "                                            sentence  \\\n",
       "0  After a period of diplomatic and military esca...   \n",
       "1  In 1917, Russia ended hostile actions against ...   \n",
       "2  The Bolsheviks negotiated the Treaty of Brest-...   \n",
       "3  In the treaty, Bolshevik Russia ceded the Balt...   \n",
       "4   It also recognized the independence of Ukraine .   \n",
       "\n",
       "                                            entities  \\\n",
       "0  [the July Crisis, the end of July 1914, the Br...   \n",
       "1           [1917, Russia, the Central Powers, Tsar]   \n",
       "2     [the Treaty of Brest-Litovsk, Germany, Russia]   \n",
       "3  [Bolshevik Russia, Baltic, Germany, Kars Oblas...   \n",
       "4                                          [Ukraine]   \n",
       "\n",
       "             country_entities  \n",
       "0  [France, Austria, Hungary]  \n",
       "1                    [Russia]  \n",
       "2           [Germany, Russia]  \n",
       "3                   [Germany]  \n",
       "4                   [Ukraine]  "
      ]
     },
     "execution_count": 27,
     "metadata": {},
     "output_type": "execute_result"
    }
   ],
   "source": [
    "# Check dataframe\n",
    "df_sentences_filtered.head()"
   ]
  },
  {
   "cell_type": "code",
   "execution_count": 28,
   "id": "1c0ae4ea-b762-4efa-a9b2-2374c6a20078",
   "metadata": {},
   "outputs": [],
   "source": [
    "# Normalise \n",
    "df_sentences_filtered[\"country_entities\"] = (\n",
    "    df_sentences_filtered[\"country_entities\"]\n",
    "    .apply(lambda xs: sorted({norm(x) for x in xs}))\n",
    ")\n"
   ]
  },
  {
   "cell_type": "code",
   "execution_count": 29,
   "id": "1a8f37bf-51c9-45f2-99dd-ef4003abf0b4",
   "metadata": {},
   "outputs": [
    {
     "data": {
      "text/html": [
       "<div>\n",
       "<style scoped>\n",
       "    .dataframe tbody tr th:only-of-type {\n",
       "        vertical-align: middle;\n",
       "    }\n",
       "\n",
       "    .dataframe tbody tr th {\n",
       "        vertical-align: top;\n",
       "    }\n",
       "\n",
       "    .dataframe thead th {\n",
       "        text-align: right;\n",
       "    }\n",
       "</style>\n",
       "<table border=\"1\" class=\"dataframe\">\n",
       "  <thead>\n",
       "    <tr style=\"text-align: right;\">\n",
       "      <th></th>\n",
       "      <th>sentence</th>\n",
       "      <th>entities</th>\n",
       "      <th>country_entities</th>\n",
       "    </tr>\n",
       "  </thead>\n",
       "  <tbody>\n",
       "    <tr>\n",
       "      <th>0</th>\n",
       "      <td>After a period of diplomatic and military esca...</td>\n",
       "      <td>[the July Crisis, the end of July 1914, the Br...</td>\n",
       "      <td>[austria, france, hungary]</td>\n",
       "    </tr>\n",
       "    <tr>\n",
       "      <th>1</th>\n",
       "      <td>In 1917, Russia ended hostile actions against ...</td>\n",
       "      <td>[1917, Russia, the Central Powers, Tsar]</td>\n",
       "      <td>[russia]</td>\n",
       "    </tr>\n",
       "    <tr>\n",
       "      <th>2</th>\n",
       "      <td>The Bolsheviks negotiated the Treaty of Brest-...</td>\n",
       "      <td>[the Treaty of Brest-Litovsk, Germany, Russia]</td>\n",
       "      <td>[germany, russia]</td>\n",
       "    </tr>\n",
       "    <tr>\n",
       "      <th>3</th>\n",
       "      <td>In the treaty, Bolshevik Russia ceded the Balt...</td>\n",
       "      <td>[Bolshevik Russia, Baltic, Germany, Kars Oblas...</td>\n",
       "      <td>[germany]</td>\n",
       "    </tr>\n",
       "    <tr>\n",
       "      <th>4</th>\n",
       "      <td>It also recognized the independence of Ukraine .</td>\n",
       "      <td>[Ukraine]</td>\n",
       "      <td>[ukraine]</td>\n",
       "    </tr>\n",
       "  </tbody>\n",
       "</table>\n",
       "</div>"
      ],
      "text/plain": [
       "                                            sentence  \\\n",
       "0  After a period of diplomatic and military esca...   \n",
       "1  In 1917, Russia ended hostile actions against ...   \n",
       "2  The Bolsheviks negotiated the Treaty of Brest-...   \n",
       "3  In the treaty, Bolshevik Russia ceded the Balt...   \n",
       "4   It also recognized the independence of Ukraine .   \n",
       "\n",
       "                                            entities  \\\n",
       "0  [the July Crisis, the end of July 1914, the Br...   \n",
       "1           [1917, Russia, the Central Powers, Tsar]   \n",
       "2     [the Treaty of Brest-Litovsk, Germany, Russia]   \n",
       "3  [Bolshevik Russia, Baltic, Germany, Kars Oblas...   \n",
       "4                                          [Ukraine]   \n",
       "\n",
       "             country_entities  \n",
       "0  [austria, france, hungary]  \n",
       "1                    [russia]  \n",
       "2           [germany, russia]  \n",
       "3                   [germany]  \n",
       "4                   [ukraine]  "
      ]
     },
     "execution_count": 29,
     "metadata": {},
     "output_type": "execute_result"
    }
   ],
   "source": [
    "df_sentences_filtered.head(5)"
   ]
  },
  {
   "cell_type": "markdown",
   "id": "0fce9017-e13c-4e58-9b54-bca27af12659",
   "metadata": {},
   "source": [
    "### 5. Build relationships"
   ]
  },
  {
   "cell_type": "code",
   "execution_count": 30,
   "id": "8b16fef7-8faa-4754-9400-d1911c99b723",
   "metadata": {},
   "outputs": [],
   "source": [
    "# Import library\n",
    "from itertools import combinations"
   ]
  },
  {
   "cell_type": "code",
   "execution_count": 45,
   "id": "e0fcc59e-a2fe-4909-9608-a49648781c89",
   "metadata": {},
   "outputs": [
    {
     "name": "stdout",
     "output_type": "stream",
     "text": [
      "relationship: 91\n"
     ]
    }
   ],
   "source": [
    "relationship = []\n",
    "for _, r in df_sentences_filtered.iterrows():\n",
    "    cs = r[\"country_entities\"]\n",
    "    for a, b in combinations(sorted(cs), 2):\n",
    "        relationship.append((a, b))\n",
    "\n",
    "df_relationship = (\n",
    "    pd.DataFrame(relationship, columns=[\"source\",\"target\"])\n",
    "      .value_counts()\n",
    "      .reset_index(name=\"value\")\n",
    "      .sort_values(\"value\", ascending=False)\n",
    "      .reset_index(drop=True)\n",
    ")\n",
    "\n",
    "print(\"relationship:\", len(df_edges))"
   ]
  },
  {
   "cell_type": "code",
   "execution_count": 47,
   "id": "b982a0f5-b43c-4ff1-8b65-f52c5e434a72",
   "metadata": {},
   "outputs": [
    {
     "data": {
      "text/html": [
       "<div>\n",
       "<style scoped>\n",
       "    .dataframe tbody tr th:only-of-type {\n",
       "        vertical-align: middle;\n",
       "    }\n",
       "\n",
       "    .dataframe tbody tr th {\n",
       "        vertical-align: top;\n",
       "    }\n",
       "\n",
       "    .dataframe thead th {\n",
       "        text-align: right;\n",
       "    }\n",
       "</style>\n",
       "<table border=\"1\" class=\"dataframe\">\n",
       "  <thead>\n",
       "    <tr style=\"text-align: right;\">\n",
       "      <th></th>\n",
       "      <th>source</th>\n",
       "      <th>target</th>\n",
       "      <th>value</th>\n",
       "    </tr>\n",
       "  </thead>\n",
       "  <tbody>\n",
       "    <tr>\n",
       "      <th>0</th>\n",
       "      <td>france</td>\n",
       "      <td>germany</td>\n",
       "      <td>4</td>\n",
       "    </tr>\n",
       "    <tr>\n",
       "      <th>1</th>\n",
       "      <td>germany</td>\n",
       "      <td>poland</td>\n",
       "      <td>4</td>\n",
       "    </tr>\n",
       "    <tr>\n",
       "      <th>2</th>\n",
       "      <td>india</td>\n",
       "      <td>pakistan</td>\n",
       "      <td>3</td>\n",
       "    </tr>\n",
       "    <tr>\n",
       "      <th>3</th>\n",
       "      <td>china</td>\n",
       "      <td>japan</td>\n",
       "      <td>3</td>\n",
       "    </tr>\n",
       "    <tr>\n",
       "      <th>4</th>\n",
       "      <td>germany</td>\n",
       "      <td>italy</td>\n",
       "      <td>3</td>\n",
       "    </tr>\n",
       "  </tbody>\n",
       "</table>\n",
       "</div>"
      ],
      "text/plain": [
       "    source    target  value\n",
       "0   france   germany      4\n",
       "1  germany    poland      4\n",
       "2    india  pakistan      3\n",
       "3    china     japan      3\n",
       "4  germany     italy      3"
      ]
     },
     "execution_count": 47,
     "metadata": {},
     "output_type": "execute_result"
    }
   ],
   "source": [
    "# Check \n",
    "df_relationship.head()"
   ]
  },
  {
   "cell_type": "code",
   "execution_count": 50,
   "id": "752a2349-a4da-4127-8a91-c8aac466059e",
   "metadata": {},
   "outputs": [],
   "source": [
    "# Export \n",
    "df_relationship.to_csv(os.path.join(path, 'relationships.csv'))"
   ]
  },
  {
   "cell_type": "code",
   "execution_count": 51,
   "id": "220bc0ed-a0bb-4a50-8cb4-2863bd1051bb",
   "metadata": {},
   "outputs": [
    {
     "name": "stdout",
     "output_type": "stream",
     "text": [
      "relationships.csv saved successfully\n"
     ]
    }
   ],
   "source": [
    "print(\"relationships.csv saved successfully\")"
   ]
  },
  {
   "cell_type": "code",
   "execution_count": null,
   "id": "5c3aaffc-9520-4a2a-922e-220234f568e8",
   "metadata": {},
   "outputs": [],
   "source": []
  },
  {
   "cell_type": "code",
   "execution_count": null,
   "id": "7ac06638-325c-4e16-8c22-afa2057f60ec",
   "metadata": {},
   "outputs": [],
   "source": []
  }
 ],
 "metadata": {
  "kernelspec": {
   "display_name": "Python 3.9 (20th_century)",
   "language": "python",
   "name": "20th_century"
  },
  "language_info": {
   "codemirror_mode": {
    "name": "ipython",
    "version": 3
   },
   "file_extension": ".py",
   "mimetype": "text/x-python",
   "name": "python",
   "nbconvert_exporter": "python",
   "pygments_lexer": "ipython3",
   "version": "3.9.23"
  }
 },
 "nbformat": 4,
 "nbformat_minor": 5
}
