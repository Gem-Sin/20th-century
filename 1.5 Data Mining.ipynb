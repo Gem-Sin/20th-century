{
 "cells": [
  {
   "cell_type": "markdown",
   "id": "3f6b49f9-66f2-439c-b86f-0b7261c316a7",
   "metadata": {},
   "source": [
    "# This script conatins the following:\n",
    "## 1.Import libraries\n",
    "## 2.Import Key Events 20th Century Text file\n",
    "## 3.Tokenisation\n",
    "## 4.Remove stopwords\n",
    "## 5.Create a Tags List using TextBlob\n",
    "## 6.List of Top 10 POS tags\n",
    "## 7.Bar Charts for Top 15 POS labels\n",
    "## 8.Create Dataframe of countries and counts\n"
   ]
  },
  {
   "cell_type": "markdown",
   "id": "68898019-7236-4a3e-8d3f-880a304afe3e",
   "metadata": {},
   "source": [
    "### 1.Import Libraries"
   ]
  },
  {
   "cell_type": "code",
   "execution_count": 9,
   "id": "3a0fa0b9-22fc-43d4-bd85-4a60478efcf2",
   "metadata": {},
   "outputs": [],
   "source": [
    "# Import libraries\n",
    "import pandas as pd\n",
    "import nltk\n",
    "from nltk.corpus import stopwords\n",
    "from nltk.tokenize import word_tokenize\n",
    "from nltk.probability import FreqDist\n",
    "from textblob import TextBlob\n",
    "import seaborn as sns\n",
    "import matplotlib.pyplot as plt\n",
    "import string\n",
    "import re\n",
    "import os"
   ]
  },
  {
   "cell_type": "code",
   "execution_count": 10,
   "id": "872da5d3-1441-4287-a2db-e9d3107f3e50",
   "metadata": {},
   "outputs": [
    {
     "name": "stderr",
     "output_type": "stream",
     "text": [
      "[nltk_data] Downloading package punkt to\n",
      "[nltk_data]     /Users/ianfleming/nltk_data...\n",
      "[nltk_data]   Package punkt is already up-to-date!\n",
      "[nltk_data] Downloading package stopwords to\n",
      "[nltk_data]     /Users/ianfleming/nltk_data...\n",
      "[nltk_data]   Package stopwords is already up-to-date!\n",
      "[nltk_data] Downloading package averaged_perceptron_tagger to\n",
      "[nltk_data]     /Users/ianfleming/nltk_data...\n",
      "[nltk_data]   Package averaged_perceptron_tagger is already up-to-\n",
      "[nltk_data]       date!\n"
     ]
    },
    {
     "data": {
      "text/plain": [
       "True"
      ]
     },
     "execution_count": 10,
     "metadata": {},
     "output_type": "execute_result"
    }
   ],
   "source": [
    "nltk.download('punkt')\n",
    "nltk.download('stopwords')\n",
    "nltk.download('averaged_perceptron_tagger')"
   ]
  },
  {
   "cell_type": "code",
   "execution_count": 11,
   "id": "c686e625-ae09-4a3a-9a03-caa1d621307b",
   "metadata": {},
   "outputs": [],
   "source": [
    "# Create path\n",
    "path = r'/Users/ianfleming/20th-century'"
   ]
  },
  {
   "cell_type": "markdown",
   "id": "f02393eb-bda8-4ca9-b76c-0ea46cd6bb02",
   "metadata": {},
   "source": [
    "### 2.Import key events 20th century txt file"
   ]
  },
  {
   "cell_type": "code",
   "execution_count": 12,
   "id": "9bcf0199-8954-4667-94e5-c170e604212f",
   "metadata": {},
   "outputs": [],
   "source": [
    "# Import txt file\n",
    "with open(\"/Users/ianfleming/20th-century/key_events_20th_century.txt\", \"r\", encoding=\"utf-8\") as file:\n",
    "    text = file.read()\n",
    "\n"
   ]
  },
  {
   "cell_type": "code",
   "execution_count": 13,
   "id": "3efc9d63-b265-44f4-9b02-9dbf839c996c",
   "metadata": {},
   "outputs": [
    {
     "name": "stdout",
     "output_type": "stream",
     "text": [
      "The\n",
      "20th century\n",
      "changed the world in unprecedented ways. The\n",
      "World Wars\n",
      "sparked tension between countries and led to the creation of\n",
      "atomic bombs\n",
      ", the\n",
      "Cold War\n",
      "led to the\n",
      "Space Race\n",
      "and the creation of space-based rockets, and the\n",
      "World Wide Web\n",
      "was created. These advancements have played a significant role in citizens' lives and shaped the\n",
      "21st century\n",
      "into what it is today.\n",
      "Historic events in the 20th century\n",
      "World at the beginning of the century\n",
      "Main article:\n",
      "Edwardian era\n",
      "The new beginning\n"
     ]
    }
   ],
   "source": [
    "# Check import\n",
    "print(text[:500])"
   ]
  },
  {
   "cell_type": "markdown",
   "id": "3c05e5f7-9c6c-4f91-8e7d-75fa536d4345",
   "metadata": {},
   "source": [
    "### 3. Tokenisation"
   ]
  },
  {
   "cell_type": "code",
   "execution_count": 14,
   "id": "f4e5dd9e-7cc4-446a-bcf7-dea1bb8202f8",
   "metadata": {},
   "outputs": [],
   "source": [
    "# Clean .txt file\n",
    "text = text.replace('\\n', ' ').strip().lower()"
   ]
  },
  {
   "cell_type": "code",
   "execution_count": 15,
   "id": "7e2c2692-f4f6-4d20-ad4d-d73ea029d8d1",
   "metadata": {},
   "outputs": [],
   "source": [
    "# keep only letters and spaces\n",
    "text = re.sub(r'[^a-z\\s]', '', text)"
   ]
  },
  {
   "cell_type": "code",
   "execution_count": 17,
   "id": "31342aa4-54d0-4d88-874d-b2f8f4d23766",
   "metadata": {},
   "outputs": [],
   "source": [
    "# Squeeza extra spaces\n",
    "text = re.sub(r'\\s{2,}', ' ',text) "
   ]
  },
  {
   "cell_type": "code",
   "execution_count": 19,
   "id": "4cf4d5e0-c380-4ff9-b46c-0f8e8e3c2ffa",
   "metadata": {},
   "outputs": [],
   "source": [
    "# Tokenise\n",
    "tokens = word_tokenize(text)"
   ]
  },
  {
   "cell_type": "code",
   "execution_count": 20,
   "id": "12274e6f-5010-4cb6-b259-b754768add8d",
   "metadata": {},
   "outputs": [],
   "source": [
    "# Frequency distribution\n",
    "fdist = FreqDist(tokens)\n",
    "top10 = fdist.most_common(10)"
   ]
  },
  {
   "cell_type": "code",
   "execution_count": 21,
   "id": "ca55c3db-4e3e-4dc3-9025-87c1a1ba34ef",
   "metadata": {},
   "outputs": [],
   "source": [
    "# Convert to DataFrame \n",
    "df_top10 = pd.DataFrame(top10, columns=['Word', 'Count'])"
   ]
  },
  {
   "cell_type": "code",
   "execution_count": 22,
   "id": "fe9bee14-3504-49a6-9b10-1edef8451939",
   "metadata": {},
   "outputs": [
    {
     "data": {
      "image/png": "[encoded data removed]",
      "text/plain": [
       "<Figure size 640x480 with 1 Axes>"
      ]
     },
     "metadata": {},
     "output_type": "display_data"
    }
   ],
   "source": [
    "# Plot\n",
    "sns.barplot(x='Count', y='Word', data=df_top10, palette='crest')\n",
    "plt.title('Top 10 Most Common Words')\n",
    "plt.show()"
   ]
  },
  {
   "cell_type": "markdown",
   "id": "a7ee862d-3caa-47a2-9384-a5044a248521",
   "metadata": {},
   "source": [
    "### 4. Remove Stopwords and re-plot"
   ]
  },
  {
   "cell_type": "code",
   "execution_count": 23,
   "id": "76cff105-3d35-44aa-ae48-f92da971a916",
   "metadata": {},
   "outputs": [],
   "source": [
    "stop_words = set(stopwords.words('english'))\n",
    "tokens_clean = [w for w in tokens if w.isalpha() and w not in stop_words]"
   ]
  },
  {
   "cell_type": "code",
   "execution_count": 35,
   "id": "1e36e973-6791-47a4-b96c-7b48dcf9405f",
   "metadata": {},
   "outputs": [],
   "source": [
    "fdist_clean = FreqDist(tokens_clean)\n",
    "df_top10_clean = pd.DataFrame(fdist_clean.most_common(10), columns=['Word', 'Count'])"
   ]
  },
  {
   "cell_type": "code",
   "execution_count": 36,
   "id": "7248452a-392f-42f6-8a94-957da18cf926",
   "metadata": {},
   "outputs": [
    {
     "data": {
      "image/png": "[encoded data removed]",
      "text/plain": [
       "<Figure size 640x480 with 1 Axes>"
      ]
     },
     "metadata": {},
     "output_type": "display_data"
    }
   ],
   "source": [
    "# re-plot\n",
    "clean_top10 = sns.barplot(data=df_top10_clean, x='Count', y='Word', palette='crest')\n",
    "plt.title('Top 10 Most Common Words (Clean)')\n",
    "plt.xlabel('Count')\n",
    "plt.ylabel('Word')\n",
    "plt.tight_layout()\n",
    "plt.show()"
   ]
  },
  {
   "cell_type": "code",
   "execution_count": 37,
   "id": "b266732b-a4d2-4b8f-8ee5-7d51e2a6bacd",
   "metadata": {},
   "outputs": [],
   "source": [
    "# Export plot\n",
    "clean_top10.figure.savefig(os.path.join(path,'top_10_words_clean.png'))"
   ]
  },
  {
   "cell_type": "code",
   "execution_count": 38,
   "id": "cb63b0c4-d892-4d72-a6a9-3da6b91f432e",
   "metadata": {},
   "outputs": [
    {
     "name": "stdout",
     "output_type": "stream",
     "text": [
      "CSV saved successfully to /Users/ianfleming/20th-century/\n"
     ]
    }
   ],
   "source": [
    "# export dataframe\n",
    "df_top10_clean.to_csv(r'/Users/ianfleming/20th-century/top10_words_clean.csv', index=False)\n",
    "print(\"CSV saved successfully to /Users/ianfleming/20th-century/\")"
   ]
  },
  {
   "cell_type": "markdown",
   "id": "71fc8f63-0a7b-427a-a6be-965c9a3daa26",
   "metadata": {},
   "source": [
    "\"ISBN\" appears frequently because of wiki's citations so I will remove them and re-plot"
   ]
  },
  {
   "cell_type": "code",
   "execution_count": 33,
   "id": "6faa9b94-82c5-492f-85a2-fb9be458a76e",
   "metadata": {},
   "outputs": [],
   "source": [
    "# remove isbn\n",
    "irrelevant_words = ['isbn']"
   ]
  },
  {
   "cell_type": "code",
   "execution_count": 34,
   "id": "2f38a4cb-addd-438e-841c-c295e1d89bf0",
   "metadata": {},
   "outputs": [],
   "source": [
    "# tokenise\n",
    "tokens_clean = [w for w in tokens_clean if w not in irrelevant_words]\n"
   ]
  },
  {
   "cell_type": "code",
   "execution_count": null,
   "id": "5e5e9f13-73ab-4325-b49d-368bae613573",
   "metadata": {},
   "outputs": [],
   "source": []
  },
  {
   "cell_type": "code",
   "execution_count": 39,
   "id": "9f70e6d3-69b3-4738-a92d-70c95c8d03cc",
   "metadata": {},
   "outputs": [
    {
     "name": "stdout",
     "output_type": "stream",
     "text": [
      "        Word  Count\n",
      "0   december    225\n",
      "1  retrieved    208\n",
      "2        war    196\n",
      "3      world    103\n",
      "4    history     69\n"
     ]
    }
   ],
   "source": [
    "print(df_top10_clean.head())"
   ]
  },
  {
   "cell_type": "code",
   "execution_count": 40,
   "id": "9b647a24-2caa-4361-a31b-7a0f4b4b0d77",
   "metadata": {},
   "outputs": [
    {
     "data": {
      "text/plain": [
       "Text(0, 0.5, 'Word')"
      ]
     },
     "execution_count": 40,
     "metadata": {},
     "output_type": "execute_result"
    },
    {
     "data": {
      "image/png": "[encoded data removed]",
      "text/plain": [
       "<Figure size 1000x500 with 1 Axes>"
      ]
     },
     "metadata": {},
     "output_type": "display_data"
    }
   ],
   "source": [
    "fig, ax = plt.subplots(figsize=(10, 5))\n",
    "sns.barplot(x='Count', y='Word', data=df_top10_clean, palette='mako', ax=ax)\n",
    "ax.set_title('Top 10 Words After Removing Stopwords')\n",
    "ax.set_xlabel('Count')\n",
    "ax.set_ylabel('Word')"
   ]
  },
  {
   "cell_type": "code",
   "execution_count": 41,
   "id": "8ea8b0a7-d216-497a-9c5b-0996f3fa8fb9",
   "metadata": {},
   "outputs": [],
   "source": [
    "fig.tight_layout()\n",
    "fig.savefig(r'/Users/ianfleming/20th-century/top10_words_clean.png',\n",
    "            dpi=300, bbox_inches='tight')"
   ]
  },
  {
   "cell_type": "code",
   "execution_count": 42,
   "id": "ab1a3a9d-cd61-4e4f-b610-39f95d29f048",
   "metadata": {},
   "outputs": [],
   "source": [
    "plt.show() "
   ]
  },
  {
   "cell_type": "code",
   "execution_count": 43,
   "id": "fe9b2088-c4eb-454d-a771-163593724d6b",
   "metadata": {},
   "outputs": [],
   "source": [
    "plt.close(fig)"
   ]
  },
  {
   "cell_type": "code",
   "execution_count": 44,
   "id": "24cfc2ff-7e48-4844-b77b-7807c8a9d5f3",
   "metadata": {},
   "outputs": [
    {
     "name": "stdout",
     "output_type": "stream",
     "text": [
      "Saved to /Users/ianfleming/20th-century/top10_words_clean.png\n"
     ]
    }
   ],
   "source": [
    "print('Saved to /Users/ianfleming/20th-century/top10_words_clean.png')"
   ]
  },
  {
   "cell_type": "markdown",
   "id": "c271fc7b-1f8c-4323-a8e5-f902411d420f",
   "metadata": {},
   "source": [
    "Previously, most common words were \"and\", \"of\", \"in\", \"the\", \"to\" and punctutation but once stopwords were removed and it was re-ploted, then the true content was unveiled. Words such as \"war\", \"Hitler\", \"December\" and \"retrieve\" appear. This is the real subject matter that is useful."
   ]
  },
  {
   "cell_type": "markdown",
   "id": "b32fb88f-8b99-4487-93bc-ed4dad59c057",
   "metadata": {},
   "source": [
    "### 5. Create a Tags list using TextBlob"
   ]
  },
  {
   "cell_type": "code",
   "execution_count": 45,
   "id": "0365b798-6290-4269-80bc-feb00ecd025f",
   "metadata": {},
   "outputs": [],
   "source": [
    "clean_text = \" \".join(tokens_clean)"
   ]
  },
  {
   "cell_type": "code",
   "execution_count": 46,
   "id": "ab424432-ec51-4f3c-ada2-4b9bff02f666",
   "metadata": {},
   "outputs": [],
   "source": [
    "# Create TextBlob and extract (word, POS) tags\n",
    "blob = TextBlob(clean_text)"
   ]
  },
  {
   "cell_type": "code",
   "execution_count": 47,
   "id": "4aa9bbfb-cf00-4f0d-b070-8e284f47cf92",
   "metadata": {},
   "outputs": [],
   "source": [
    "tags = blob.tags"
   ]
  },
  {
   "cell_type": "code",
   "execution_count": 48,
   "id": "0dec182c-127d-471f-8e87-e4b0c61523dc",
   "metadata": {},
   "outputs": [
    {
     "data": {
      "text/plain": [
       "(9767,\n",
       " [('th', 'JJ'),\n",
       "  ('century', 'NN'),\n",
       "  ('changed', 'VBD'),\n",
       "  ('world', 'NN'),\n",
       "  ('unprecedented', 'JJ'),\n",
       "  ('ways', 'NNS'),\n",
       "  ('world', 'NN'),\n",
       "  ('wars', 'NNS'),\n",
       "  ('sparked', 'VBD'),\n",
       "  ('tension', 'NN')])"
      ]
     },
     "execution_count": 48,
     "metadata": {},
     "output_type": "execute_result"
    }
   ],
   "source": [
    "len(tags), tags[:10]"
   ]
  },
  {
   "cell_type": "code",
   "execution_count": 49,
   "id": "1d921815-eace-4c7c-8703-7ec96616f25a",
   "metadata": {},
   "outputs": [],
   "source": [
    "# Create a dataframe for POS\n",
    "pos_df = pd.DataFrame(tags, columns=[\"Word\", \"POS\"])\n"
   ]
  },
  {
   "cell_type": "code",
   "execution_count": 50,
   "id": "6077115f-b158-4712-b471-63a7d057fee3",
   "metadata": {},
   "outputs": [
    {
     "data": {
      "text/html": [
       "<div>\n",
       "<style scoped>\n",
       "    .dataframe tbody tr th:only-of-type {\n",
       "        vertical-align: middle;\n",
       "    }\n",
       "\n",
       "    .dataframe tbody tr th {\n",
       "        vertical-align: top;\n",
       "    }\n",
       "\n",
       "    .dataframe thead th {\n",
       "        text-align: right;\n",
       "    }\n",
       "</style>\n",
       "<table border=\"1\" class=\"dataframe\">\n",
       "  <thead>\n",
       "    <tr style=\"text-align: right;\">\n",
       "      <th></th>\n",
       "      <th>Word</th>\n",
       "      <th>POS</th>\n",
       "    </tr>\n",
       "  </thead>\n",
       "  <tbody>\n",
       "    <tr>\n",
       "      <th>0</th>\n",
       "      <td>th</td>\n",
       "      <td>JJ</td>\n",
       "    </tr>\n",
       "    <tr>\n",
       "      <th>1</th>\n",
       "      <td>century</td>\n",
       "      <td>NN</td>\n",
       "    </tr>\n",
       "    <tr>\n",
       "      <th>2</th>\n",
       "      <td>changed</td>\n",
       "      <td>VBD</td>\n",
       "    </tr>\n",
       "    <tr>\n",
       "      <th>3</th>\n",
       "      <td>world</td>\n",
       "      <td>NN</td>\n",
       "    </tr>\n",
       "    <tr>\n",
       "      <th>4</th>\n",
       "      <td>unprecedented</td>\n",
       "      <td>JJ</td>\n",
       "    </tr>\n",
       "    <tr>\n",
       "      <th>5</th>\n",
       "      <td>ways</td>\n",
       "      <td>NNS</td>\n",
       "    </tr>\n",
       "    <tr>\n",
       "      <th>6</th>\n",
       "      <td>world</td>\n",
       "      <td>NN</td>\n",
       "    </tr>\n",
       "    <tr>\n",
       "      <th>7</th>\n",
       "      <td>wars</td>\n",
       "      <td>NNS</td>\n",
       "    </tr>\n",
       "    <tr>\n",
       "      <th>8</th>\n",
       "      <td>sparked</td>\n",
       "      <td>VBD</td>\n",
       "    </tr>\n",
       "    <tr>\n",
       "      <th>9</th>\n",
       "      <td>tension</td>\n",
       "      <td>NN</td>\n",
       "    </tr>\n",
       "  </tbody>\n",
       "</table>\n",
       "</div>"
      ],
      "text/plain": [
       "            Word  POS\n",
       "0             th   JJ\n",
       "1        century   NN\n",
       "2        changed  VBD\n",
       "3          world   NN\n",
       "4  unprecedented   JJ\n",
       "5           ways  NNS\n",
       "6          world   NN\n",
       "7           wars  NNS\n",
       "8        sparked  VBD\n",
       "9        tension   NN"
      ]
     },
     "execution_count": 50,
     "metadata": {},
     "output_type": "execute_result"
    }
   ],
   "source": [
    "pos_df.head(10)"
   ]
  },
  {
   "cell_type": "code",
   "execution_count": 51,
   "id": "f7bfb681-eda5-4b3b-bc9d-b1982cef8fb4",
   "metadata": {},
   "outputs": [
    {
     "name": "stdout",
     "output_type": "stream",
     "text": [
      "CSV saved successfully to /Users/ianfleming/20th-century/\n"
     ]
    }
   ],
   "source": [
    "# export dataframe\n",
    "pos_df.to_csv(r'/Users/ianfleming/20th-century/pos_dataframe.csv', index=False)\n",
    "print(\"CSV saved successfully to /Users/ianfleming/20th-century/\")"
   ]
  },
  {
   "cell_type": "markdown",
   "id": "7ab769d2-6104-4af3-992e-df44c800c05c",
   "metadata": {},
   "source": [
    "### 6. List of top 10 POS Tags"
   ]
  },
  {
   "cell_type": "code",
   "execution_count": 52,
   "id": "4e90a8d0-296f-47a3-b36b-8a1dab3dd584",
   "metadata": {},
   "outputs": [
    {
     "data": {
      "text/html": [
       "<div>\n",
       "<style scoped>\n",
       "    .dataframe tbody tr th:only-of-type {\n",
       "        vertical-align: middle;\n",
       "    }\n",
       "\n",
       "    .dataframe tbody tr th {\n",
       "        vertical-align: top;\n",
       "    }\n",
       "\n",
       "    .dataframe thead th {\n",
       "        text-align: right;\n",
       "    }\n",
       "</style>\n",
       "<table border=\"1\" class=\"dataframe\">\n",
       "  <thead>\n",
       "    <tr style=\"text-align: right;\">\n",
       "      <th></th>\n",
       "      <th>POS</th>\n",
       "      <th>Count</th>\n",
       "    </tr>\n",
       "  </thead>\n",
       "  <tbody>\n",
       "    <tr>\n",
       "      <th>0</th>\n",
       "      <td>NN</td>\n",
       "      <td>3645</td>\n",
       "    </tr>\n",
       "    <tr>\n",
       "      <th>1</th>\n",
       "      <td>JJ</td>\n",
       "      <td>2251</td>\n",
       "    </tr>\n",
       "    <tr>\n",
       "      <th>2</th>\n",
       "      <td>NNS</td>\n",
       "      <td>1082</td>\n",
       "    </tr>\n",
       "    <tr>\n",
       "      <th>3</th>\n",
       "      <td>VBD</td>\n",
       "      <td>734</td>\n",
       "    </tr>\n",
       "    <tr>\n",
       "      <th>4</th>\n",
       "      <td>RB</td>\n",
       "      <td>434</td>\n",
       "    </tr>\n",
       "    <tr>\n",
       "      <th>5</th>\n",
       "      <td>VBP</td>\n",
       "      <td>371</td>\n",
       "    </tr>\n",
       "    <tr>\n",
       "      <th>6</th>\n",
       "      <td>VBG</td>\n",
       "      <td>271</td>\n",
       "    </tr>\n",
       "    <tr>\n",
       "      <th>7</th>\n",
       "      <td>VBN</td>\n",
       "      <td>245</td>\n",
       "    </tr>\n",
       "    <tr>\n",
       "      <th>8</th>\n",
       "      <td>IN</td>\n",
       "      <td>160</td>\n",
       "    </tr>\n",
       "    <tr>\n",
       "      <th>9</th>\n",
       "      <td>VB</td>\n",
       "      <td>116</td>\n",
       "    </tr>\n",
       "  </tbody>\n",
       "</table>\n",
       "</div>"
      ],
      "text/plain": [
       "   POS  Count\n",
       "0   NN   3645\n",
       "1   JJ   2251\n",
       "2  NNS   1082\n",
       "3  VBD    734\n",
       "4   RB    434\n",
       "5  VBP    371\n",
       "6  VBG    271\n",
       "7  VBN    245\n",
       "8   IN    160\n",
       "9   VB    116"
      ]
     },
     "execution_count": 52,
     "metadata": {},
     "output_type": "execute_result"
    }
   ],
   "source": [
    "# Count POS top 10 frequencies\n",
    "top_pos = (pos_df[\"POS\"]\n",
    "           .value_counts()\n",
    "           .head(10)\n",
    "           .reset_index())\n",
    "top_pos.columns = [\"POS\", \"Count\"]\n",
    "top_pos"
   ]
  },
  {
   "cell_type": "code",
   "execution_count": 53,
   "id": "b26e9103-2991-40dc-baad-db7e1f4f29eb",
   "metadata": {},
   "outputs": [
    {
     "data": {
      "image/png": "[encoded data removed]",
      "text/plain": [
       "<Figure size 800x500 with 1 Axes>"
      ]
     },
     "metadata": {},
     "output_type": "display_data"
    }
   ],
   "source": [
    "# Plot and save chart\n",
    "fig, ax = plt.subplots(figsize=(8,5))\n",
    "sns.barplot(data=top_pos, x=\"Count\", y=\"POS\", palette=\"viridis\", ax=ax)\n",
    "ax.set_title(\"Top 10 POS Tags (20th-Century Article)\")\n",
    "ax.set_xlabel(\"Count\"); ax.set_ylabel(\"POS\")\n",
    "fig.tight_layout()\n",
    "\n",
    "fig.savefig(r'/Users/ianfleming/20th-century/top_pos_tags.png', dpi=300, bbox_inches='tight')\n",
    "plt.show(); plt.close(fig)"
   ]
  },
  {
   "cell_type": "code",
   "execution_count": 54,
   "id": "16bce4fe-f852-4abe-a153-f9545336ccc3",
   "metadata": {},
   "outputs": [],
   "source": [
    "# Export the csv file\n",
    "top_pos.to_csv(r'/Users/ianfleming/20th-century/top_pos_tags.csv', index=False)"
   ]
  },
  {
   "cell_type": "markdown",
   "id": "f351ee67-67cb-412e-9279-9603afa6f0ca",
   "metadata": {},
   "source": [
    "### 7. Bar charts with Top 15 POS labels"
   ]
  },
  {
   "cell_type": "code",
   "execution_count": 55,
   "id": "53f70ed1-2e44-4b42-8488-063522925ce4",
   "metadata": {},
   "outputs": [],
   "source": [
    "def top_words_by_pos(pos_prefix: str, k: int = 15):\n",
    "    sub = pos_df[pos_df[\"POS\"].str.startswith(pos_prefix)]\n",
    "    words = sub[\"Word\"].str.lower().str.strip()\n",
    "    counts = (words[words.str.isalpha()]\n",
    "              .value_counts()\n",
    "              .head(k)\n",
    "              .reset_index())\n",
    "    counts.columns = [\"Word\", \"Count\"]\n",
    "    return counts"
   ]
  },
  {
   "cell_type": "code",
   "execution_count": 56,
   "id": "ef29580d-86d7-4e64-94ec-b30e26914edf",
   "metadata": {},
   "outputs": [
    {
     "data": {
      "text/html": [
       "<div>\n",
       "<style scoped>\n",
       "    .dataframe tbody tr th:only-of-type {\n",
       "        vertical-align: middle;\n",
       "    }\n",
       "\n",
       "    .dataframe tbody tr th {\n",
       "        vertical-align: top;\n",
       "    }\n",
       "\n",
       "    .dataframe thead th {\n",
       "        text-align: right;\n",
       "    }\n",
       "</style>\n",
       "<table border=\"1\" class=\"dataframe\">\n",
       "  <thead>\n",
       "    <tr style=\"text-align: right;\">\n",
       "      <th></th>\n",
       "      <th>Word</th>\n",
       "      <th>Count</th>\n",
       "    </tr>\n",
       "  </thead>\n",
       "  <tbody>\n",
       "    <tr>\n",
       "      <th>0</th>\n",
       "      <td>war</td>\n",
       "      <td>196</td>\n",
       "    </tr>\n",
       "    <tr>\n",
       "      <th>1</th>\n",
       "      <td>world</td>\n",
       "      <td>103</td>\n",
       "    </tr>\n",
       "    <tr>\n",
       "      <th>2</th>\n",
       "      <td>december</td>\n",
       "      <td>85</td>\n",
       "    </tr>\n",
       "    <tr>\n",
       "      <th>3</th>\n",
       "      <td>history</td>\n",
       "      <td>69</td>\n",
       "    </tr>\n",
       "    <tr>\n",
       "      <th>4</th>\n",
       "      <td>hitler</td>\n",
       "      <td>39</td>\n",
       "    </tr>\n",
       "  </tbody>\n",
       "</table>\n",
       "</div>"
      ],
      "text/plain": [
       "       Word  Count\n",
       "0       war    196\n",
       "1     world    103\n",
       "2  december     85\n",
       "3   history     69\n",
       "4    hitler     39"
      ]
     },
     "execution_count": 56,
     "metadata": {},
     "output_type": "execute_result"
    }
   ],
   "source": [
    "# Nouns\n",
    "top15_nouns = top_words_by_pos(\"NN\", 15)\n",
    "top15_nouns.head()"
   ]
  },
  {
   "cell_type": "code",
   "execution_count": 57,
   "id": "b08765ab-28e3-4e5e-bf5a-0a4ae407be32",
   "metadata": {},
   "outputs": [
    {
     "data": {
      "text/html": [
       "<div>\n",
       "<style scoped>\n",
       "    .dataframe tbody tr th:only-of-type {\n",
       "        vertical-align: middle;\n",
       "    }\n",
       "\n",
       "    .dataframe tbody tr th {\n",
       "        vertical-align: top;\n",
       "    }\n",
       "\n",
       "    .dataframe thead th {\n",
       "        text-align: right;\n",
       "    }\n",
       "</style>\n",
       "<table border=\"1\" class=\"dataframe\">\n",
       "  <thead>\n",
       "    <tr style=\"text-align: right;\">\n",
       "      <th></th>\n",
       "      <th>Word</th>\n",
       "      <th>Count</th>\n",
       "    </tr>\n",
       "  </thead>\n",
       "  <tbody>\n",
       "    <tr>\n",
       "      <th>0</th>\n",
       "      <td>retrieved</td>\n",
       "      <td>195</td>\n",
       "    </tr>\n",
       "    <tr>\n",
       "      <th>1</th>\n",
       "      <td>became</td>\n",
       "      <td>29</td>\n",
       "    </tr>\n",
       "    <tr>\n",
       "      <th>2</th>\n",
       "      <td>archived</td>\n",
       "      <td>16</td>\n",
       "    </tr>\n",
       "    <tr>\n",
       "      <th>3</th>\n",
       "      <td>led</td>\n",
       "      <td>15</td>\n",
       "    </tr>\n",
       "    <tr>\n",
       "      <th>4</th>\n",
       "      <td>made</td>\n",
       "      <td>14</td>\n",
       "    </tr>\n",
       "  </tbody>\n",
       "</table>\n",
       "</div>"
      ],
      "text/plain": [
       "        Word  Count\n",
       "0  retrieved    195\n",
       "1     became     29\n",
       "2   archived     16\n",
       "3        led     15\n",
       "4       made     14"
      ]
     },
     "execution_count": 57,
     "metadata": {},
     "output_type": "execute_result"
    }
   ],
   "source": [
    "# Verbs\n",
    "top15_verbs = top_words_by_pos(\"VB\", 15)\n",
    "top15_verbs.head()"
   ]
  },
  {
   "cell_type": "code",
   "execution_count": 58,
   "id": "982ae2c9-e30b-4cee-82ac-e0ac82fd09cf",
   "metadata": {},
   "outputs": [
    {
     "data": {
      "text/html": [
       "<div>\n",
       "<style scoped>\n",
       "    .dataframe tbody tr th:only-of-type {\n",
       "        vertical-align: middle;\n",
       "    }\n",
       "\n",
       "    .dataframe tbody tr th {\n",
       "        vertical-align: top;\n",
       "    }\n",
       "\n",
       "    .dataframe thead th {\n",
       "        text-align: right;\n",
       "    }\n",
       "</style>\n",
       "<table border=\"1\" class=\"dataframe\">\n",
       "  <thead>\n",
       "    <tr style=\"text-align: right;\">\n",
       "      <th></th>\n",
       "      <th>Word</th>\n",
       "      <th>Count</th>\n",
       "    </tr>\n",
       "  </thead>\n",
       "  <tbody>\n",
       "    <tr>\n",
       "      <th>0</th>\n",
       "      <td>december</td>\n",
       "      <td>128</td>\n",
       "    </tr>\n",
       "    <tr>\n",
       "      <th>1</th>\n",
       "      <td>soviet</td>\n",
       "      <td>57</td>\n",
       "    </tr>\n",
       "    <tr>\n",
       "      <th>2</th>\n",
       "      <td>new</td>\n",
       "      <td>54</td>\n",
       "    </tr>\n",
       "    <tr>\n",
       "      <th>3</th>\n",
       "      <td>nuclear</td>\n",
       "      <td>37</td>\n",
       "    </tr>\n",
       "    <tr>\n",
       "      <th>4</th>\n",
       "      <td>german</td>\n",
       "      <td>31</td>\n",
       "    </tr>\n",
       "  </tbody>\n",
       "</table>\n",
       "</div>"
      ],
      "text/plain": [
       "       Word  Count\n",
       "0  december    128\n",
       "1    soviet     57\n",
       "2       new     54\n",
       "3   nuclear     37\n",
       "4    german     31"
      ]
     },
     "execution_count": 58,
     "metadata": {},
     "output_type": "execute_result"
    }
   ],
   "source": [
    "# Adjectives\n",
    "top15_adjs  = top_words_by_pos(\"JJ\", 15)\n",
    "top15_adjs.head()"
   ]
  },
  {
   "cell_type": "code",
   "execution_count": 59,
   "id": "2ee4d254-9fb1-45d6-80ba-70ef64ec2578",
   "metadata": {},
   "outputs": [],
   "source": [
    "# Plot and save\n",
    "def plot_show_and_save(df, title, filename, path, y_col=\"Word\"):\n",
    "    fig, ax = plt.subplots(figsize=(9, 6))\n",
    "    sns.barplot(data=df, x=\"Count\", y=y_col, palette=\"mako\", ax=ax)\n",
    "    ax.set_title(title)\n",
    "    ax.set_xlabel(\"Count\")\n",
    "    ax.set_ylabel(y_col)\n",
    "    fig.tight_layout()\n",
    "\n",
    "    full_path = os.path.join(path, filename)\n",
    "    fig.savefig(full_path, dpi=300, bbox_inches=\"tight\")\n",
    "    plt.show()\n",
    "    plt.close(fig)\n",
    "    print(\"Chart saved:\", full_path)\n",
    "\n"
   ]
  },
  {
   "cell_type": "code",
   "execution_count": 60,
   "id": "62d0b085-af06-41c1-8dc4-c731714c7773",
   "metadata": {},
   "outputs": [
    {
     "data": {
      "image/png": "[encoded data removed]",
      "text/plain": [
       "<Figure size 900x600 with 1 Axes>"
      ]
     },
     "metadata": {},
     "output_type": "display_data"
    },
    {
     "name": "stdout",
     "output_type": "stream",
     "text": [
      "Chart saved: /Users/ianfleming/20th-century/top15_nouns.png\n"
     ]
    }
   ],
   "source": [
    "# Calling noun chart\n",
    "plot_show_and_save(top15_nouns, \"Top 15 Nouns\", \"top15_nouns.png\", path)"
   ]
  },
  {
   "cell_type": "code",
   "execution_count": 61,
   "id": "8be7c204-8269-4f34-886f-c13e74e1942d",
   "metadata": {},
   "outputs": [
    {
     "data": {
      "image/png": "[encoded data removed]",
      "text/plain": [
       "<Figure size 900x600 with 1 Axes>"
      ]
     },
     "metadata": {},
     "output_type": "display_data"
    },
    {
     "name": "stdout",
     "output_type": "stream",
     "text": [
      "Chart saved: /Users/ianfleming/20th-century/top15_verbs.png\n"
     ]
    }
   ],
   "source": [
    "# Calling verb chart\n",
    "plot_show_and_save(top15_verbs, \"Top 15 Verbs\", \"top15_verbs.png\", path)"
   ]
  },
  {
   "cell_type": "code",
   "execution_count": 62,
   "id": "fb69fd0f-4050-41b3-b15d-edef9d083274",
   "metadata": {},
   "outputs": [
    {
     "data": {
      "image/png": "[encoded data removed]",
      "text/plain": [
       "<Figure size 900x600 with 1 Axes>"
      ]
     },
     "metadata": {},
     "output_type": "display_data"
    },
    {
     "name": "stdout",
     "output_type": "stream",
     "text": [
      "Chart saved: /Users/ianfleming/20th-century/top15_adjectives.png\n"
     ]
    }
   ],
   "source": [
    "# Calling adjective chart\n",
    "plot_show_and_save(top15_adjs,  \"Top 15 Adjectives\", \"top15_adjectives.png\", path)"
   ]
  },
  {
   "cell_type": "markdown",
   "id": "acdfaa33-3f64-46ae-bb21-20d770a96866",
   "metadata": {},
   "source": [
    "#### Chart Interpretation\n",
    "The charts reveals that the 20th-century text is heavily shaped by war, politics, and international relations. Nouns like war, world, and Hitler dominate, pointing to major historical conflicts. Common verbs such as retrieved and led suggest a factual, documentary tone. The adjectives such as soviet, nuclear, and american highlight geopolitical and technological themes."
   ]
  },
  {
   "cell_type": "markdown",
   "id": "0b77b480-5f9f-4f99-8e0a-145b948b5c07",
   "metadata": {},
   "source": [
    "### 8. Create a dataframe of countries and counts"
   ]
  },
  {
   "cell_type": "code",
   "execution_count": 63,
   "id": "184b0d1b-73de-4aba-aef2-6e5abd7f2ac0",
   "metadata": {},
   "outputs": [],
   "source": [
    "# Import data\n",
    "countries = pd.read_csv(os.path.join(path,'countries_list_20th_century_1.5.csv'),index_col=0)\n"
   ]
  },
  {
   "cell_type": "code",
   "execution_count": 64,
   "id": "54f8d0bd-5d77-4175-ad48-c8c82d7f48bc",
   "metadata": {},
   "outputs": [
    {
     "data": {
      "text/html": [
       "<div>\n",
       "<style scoped>\n",
       "    .dataframe tbody tr th:only-of-type {\n",
       "        vertical-align: middle;\n",
       "    }\n",
       "\n",
       "    .dataframe tbody tr th {\n",
       "        vertical-align: top;\n",
       "    }\n",
       "\n",
       "    .dataframe thead th {\n",
       "        text-align: right;\n",
       "    }\n",
       "</style>\n",
       "<table border=\"1\" class=\"dataframe\">\n",
       "  <thead>\n",
       "    <tr style=\"text-align: right;\">\n",
       "      <th></th>\n",
       "      <th>country_name</th>\n",
       "    </tr>\n",
       "  </thead>\n",
       "  <tbody>\n",
       "    <tr>\n",
       "      <th>1</th>\n",
       "      <td>Afghanistan</td>\n",
       "    </tr>\n",
       "    <tr>\n",
       "      <th>2</th>\n",
       "      <td>Albania</td>\n",
       "    </tr>\n",
       "    <tr>\n",
       "      <th>3</th>\n",
       "      <td>Algeria</td>\n",
       "    </tr>\n",
       "    <tr>\n",
       "      <th>4</th>\n",
       "      <td>Andorra</td>\n",
       "    </tr>\n",
       "    <tr>\n",
       "      <th>5</th>\n",
       "      <td>Angola</td>\n",
       "    </tr>\n",
       "  </tbody>\n",
       "</table>\n",
       "</div>"
      ],
      "text/plain": [
       "    country_name\n",
       "1   Afghanistan \n",
       "2       Albania \n",
       "3       Algeria \n",
       "4       Andorra \n",
       "5        Angola "
      ]
     },
     "execution_count": 64,
     "metadata": {},
     "output_type": "execute_result"
    }
   ],
   "source": [
    "# Check import\n",
    "countries.head()"
   ]
  },
  {
   "cell_type": "markdown",
   "id": "485222ca-f1f4-42d1-97a8-e049cf7a8445",
   "metadata": {},
   "source": []
  },
  {
   "cell_type": "code",
   "execution_count": 65,
   "id": "8dea1a36-d065-410f-86e9-edc665fefd14",
   "metadata": {
    "scrolled": true
   },
   "outputs": [
    {
     "data": {
      "text/plain": [
       "[' Afghanistan ',\n",
       " '  Albania ',\n",
       " '  Algeria ',\n",
       " '  Andorra ',\n",
       " '  Angola ',\n",
       " '  Antigua and Barbuda ',\n",
       " '  Argentina ',\n",
       " '  Armenia ',\n",
       " '  Australia ',\n",
       " '  Austria ',\n",
       " '  Azerbaijan',\n",
       " ' Bahamas, The ',\n",
       " '  Bahrain ',\n",
       " '  Bangladesh ',\n",
       " '  Barbados ',\n",
       " '  Belarus ',\n",
       " '  Belgium ',\n",
       " '  Belize ',\n",
       " '  Benin ',\n",
       " '  Bhutan ',\n",
       " '  Bolivia ',\n",
       " '  Bosnia and Herzegovina ',\n",
       " '  Botswana ',\n",
       " '  Brazil ',\n",
       " '  Brunei ',\n",
       " '  Bulgaria ',\n",
       " '  Burkina Faso ',\n",
       " '  Burundi',\n",
       " ' Cambodia ',\n",
       " '  Cameroon ',\n",
       " '  Canada ',\n",
       " '  Cape Verde ',\n",
       " '  Central African Republic ',\n",
       " '  Chad ',\n",
       " '  Chile ',\n",
       " \"  China, People's Republic of \",\n",
       " '  Colombia ',\n",
       " '  Comoros ',\n",
       " '  Congo, Democratic Republic of the ',\n",
       " '  Congo, Republic of the ',\n",
       " '  Costa Rica ',\n",
       " '  Croatia ',\n",
       " '  Cuba ',\n",
       " '  Cyprus ',\n",
       " '  Czech Republic',\n",
       " '  Denmark ',\n",
       " '   Djibouti ',\n",
       " '   Dominica ',\n",
       " '   Dominican Republic',\n",
       " '  East Timor ',\n",
       " '   Ecuador ',\n",
       " '   Egypt ',\n",
       " '   El Salvador ',\n",
       " '   Equatorial Guinea ',\n",
       " '   Eritrea ',\n",
       " '   Estonia ',\n",
       " '   Eswatini ',\n",
       " '   Ethiopia',\n",
       " '  Fiji ',\n",
       " '   Finland ',\n",
       " '   France',\n",
       " '  Gabon ',\n",
       " '   Gambia, The ',\n",
       " '   Georgia ',\n",
       " '   Germany ',\n",
       " '   Ghana ',\n",
       " '   Greece ',\n",
       " '   Grenada ',\n",
       " '   Guatemala ',\n",
       " '   Guinea ',\n",
       " '   Guinea',\n",
       " 'Bissau ',\n",
       " '   Guyana',\n",
       " '  Haiti ',\n",
       " '   Honduras ',\n",
       " '   Hungary',\n",
       " '  Iceland ',\n",
       " '   India ',\n",
       " '   Indonesia ',\n",
       " '   Iran ',\n",
       " '   Iraq ',\n",
       " '   Ireland ',\n",
       " '   Israel ',\n",
       " '   Italy ',\n",
       " '   Ivory Coast',\n",
       " '  Jamaica ',\n",
       " '   Japan ',\n",
       " '   Jordan',\n",
       " '  Kazakhstan ',\n",
       " '   Kenya ',\n",
       " '   Kiribati ',\n",
       " '   Korea, North ',\n",
       " '   Korea, South ',\n",
       " '   Kuwait ',\n",
       " '   Kyrgyzstan',\n",
       " '  Laos ',\n",
       " '   Latvia ',\n",
       " '   Lebanon ',\n",
       " '   Lesotho ',\n",
       " '   Liberia ',\n",
       " '   Libya ',\n",
       " '   Liechtenstein ',\n",
       " '   Lithuania ',\n",
       " '   Luxembourg',\n",
       " '  Madagascar ',\n",
       " '   Malawi ',\n",
       " '   Malaysia ',\n",
       " '   Maldives ',\n",
       " '   Mali ',\n",
       " '   Malta ',\n",
       " '   Marshall Islands ',\n",
       " '   Mauritania ',\n",
       " '   Mauritius ',\n",
       " '   Mexico ',\n",
       " '   Micronesia, Federated States of ',\n",
       " '   Moldova ',\n",
       " '   Monaco ',\n",
       " '   Mongolia ',\n",
       " '   Montenegro ',\n",
       " '   Morocco ',\n",
       " '   Mozambique ',\n",
       " '   Myanmar',\n",
       " '  Namibia ',\n",
       " '   Nauru ',\n",
       " '     Nepal ',\n",
       " '   Netherlands ',\n",
       " '   New Zealand ',\n",
       " '   Nicaragua ',\n",
       " '   Niger ',\n",
       " '   Nigeria ',\n",
       " '   North Macedonia ',\n",
       " '   Norway',\n",
       " '  Oman',\n",
       " '  Pakistan ',\n",
       " '   Palau ',\n",
       " '   Palestine ',\n",
       " '   Panama ',\n",
       " '   Papua New Guinea ',\n",
       " '   Paraguay ',\n",
       " '   Peru ',\n",
       " '   Philippines ',\n",
       " '   Poland ',\n",
       " '   Portugal',\n",
       " '  Qatar',\n",
       " '  Romania ',\n",
       " '   Russia ',\n",
       " '   Rwanda',\n",
       " '  Saint Kitts and Nevis ',\n",
       " '   Saint Lucia ',\n",
       " '   Saint Vincent and the Grenadines ',\n",
       " '   Samoa ',\n",
       " '   San Marino ',\n",
       " '   São Tomé and Príncipe ',\n",
       " '   Saudi Arabia ',\n",
       " '   Senegal ',\n",
       " '   Serbia ',\n",
       " '   Seychelles ',\n",
       " '   Sierra Leone ',\n",
       " '   Singapore ',\n",
       " '   Slovakia ',\n",
       " '   Slovenia ',\n",
       " '   Solomon Islands ',\n",
       " '   Somalia ',\n",
       " '   South Africa ',\n",
       " '   South Sudan ',\n",
       " '   Spain ',\n",
       " '   Sri Lanka ',\n",
       " '   Sudan ',\n",
       " '   Suriname ',\n",
       " '   Sweden ',\n",
       " '    Switzerland ',\n",
       " '   Syria',\n",
       " '  Tajikistan ',\n",
       " '   Tanzania ',\n",
       " '   Thailand ',\n",
       " '   Togo ',\n",
       " '   Tonga ',\n",
       " '   Trinidad and Tobago ',\n",
       " '   Tunisia ',\n",
       " '   Turkey ',\n",
       " '   Turkmenistan ',\n",
       " '   Tuvalu',\n",
       " '  Uganda ',\n",
       " '   Ukraine ',\n",
       " '   United Arab Emirates ',\n",
       " '   United Kingdom ',\n",
       " '   United States ',\n",
       " '   Uruguay ',\n",
       " '   Uzbekistan',\n",
       " '  Vanuatu ',\n",
       " '    Vatican City (Holy See) ',\n",
       " '   Venezuela ',\n",
       " '   Vietnam',\n",
       " '  Yemen',\n",
       " '  Zambia ',\n",
       " '   Zimbabwe',\n",
       " '  Abkhazia ',\n",
       " '   Artsakh ',\n",
       " '   Cook Islands ',\n",
       " \"   Donetsk People's Republic \",\n",
       " '   Kosovo ',\n",
       " \"   Luhansk People's Republic \",\n",
       " '   Niue ',\n",
       " '   Northern Cyprus ',\n",
       " '   Sahrawi Arab Democratic Republic ',\n",
       " '   Somaliland ',\n",
       " '   South Ossetia ',\n",
       " '   Taiwan ',\n",
       " '   Transnistria']"
      ]
     },
     "execution_count": 65,
     "metadata": {},
     "output_type": "execute_result"
    }
   ],
   "source": [
    "# Check countries\n",
    "countries['country_name'].to_list()\n"
   ]
  },
  {
   "cell_type": "code",
   "execution_count": 39,
   "id": "5bb8c702-3476-405e-81c3-d20d71e76095",
   "metadata": {
    "scrolled": true
   },
   "outputs": [
    {
     "name": "stdout",
     "output_type": "stream",
     "text": [
      "1.  Afghanistan \n",
      "2.   Albania \n",
      "3.   Algeria \n",
      "4.   Andorra \n",
      "5.   Angola \n",
      "6.   Antigua and Barbuda \n",
      "7.   Argentina \n",
      "8.   Armenia \n",
      "9.   Australia \n",
      "10.   Austria \n",
      "11.   Azerbaijan\n",
      "12.  Bahamas, The \n",
      "13.   Bahrain \n",
      "14.   Bangladesh \n",
      "15.   Barbados \n",
      "16.   Belarus \n",
      "17.   Belgium \n",
      "18.   Belize \n",
      "19.   Benin \n",
      "20.   Bhutan \n",
      "21.   Bolivia \n",
      "22.   Bosnia and Herzegovina \n",
      "23.   Botswana \n",
      "24.   Brazil \n",
      "25.   Brunei \n",
      "26.   Bulgaria \n",
      "27.   Burkina Faso \n",
      "28.   Burundi\n",
      "29.  Cambodia \n",
      "30.   Cameroon \n",
      "31.   Canada \n",
      "32.   Cape Verde \n",
      "33.   Central African Republic \n",
      "34.   Chad \n",
      "35.   Chile \n",
      "36.   China, People's Republic of \n",
      "37.   Colombia \n",
      "38.   Comoros \n",
      "39.   Congo, Democratic Republic of the \n",
      "40.   Congo, Republic of the \n",
      "41.   Costa Rica \n",
      "42.   Croatia \n",
      "43.   Cuba \n",
      "44.   Cyprus \n",
      "45.   Czech Republic\n",
      "46.   Denmark \n",
      "47.    Djibouti \n",
      "48.    Dominica \n",
      "49.    Dominican Republic\n",
      "50.   East Timor \n",
      "51.    Ecuador \n",
      "52.    Egypt \n",
      "53.    El Salvador \n",
      "54.    Equatorial Guinea \n",
      "55.    Eritrea \n",
      "56.    Estonia \n",
      "57.    Eswatini \n",
      "58.    Ethiopia\n",
      "59.   Fiji \n",
      "60.    Finland \n",
      "61.    France\n",
      "62.   Gabon \n",
      "63.    Gambia, The \n",
      "64.    Georgia \n",
      "65.    Germany \n",
      "66.    Ghana \n",
      "67.    Greece \n",
      "68.    Grenada \n",
      "69.    Guatemala \n",
      "70.    Guinea \n",
      "71.    Guinea\n",
      "72. Bissau \n",
      "73.    Guyana\n",
      "74.   Haiti \n",
      "75.    Honduras \n",
      "76.    Hungary\n",
      "77.   Iceland \n",
      "78.    India \n",
      "79.    Indonesia \n",
      "80.    Iran \n",
      "81.    Iraq \n",
      "82.    Ireland \n",
      "83.    Israel \n",
      "84.    Italy \n",
      "85.    Ivory Coast\n",
      "86.   Jamaica \n",
      "87.    Japan \n",
      "88.    Jordan\n",
      "89.   Kazakhstan \n",
      "90.    Kenya \n",
      "91.    Kiribati \n",
      "92.    Korea, North \n",
      "93.    Korea, South \n",
      "94.    Kuwait \n",
      "95.    Kyrgyzstan\n",
      "96.   Laos \n",
      "97.    Latvia \n",
      "98.    Lebanon \n",
      "99.    Lesotho \n",
      "100.    Liberia \n",
      "101.    Libya \n",
      "102.    Liechtenstein \n",
      "103.    Lithuania \n",
      "104.    Luxembourg\n",
      "105.   Madagascar \n",
      "106.    Malawi \n",
      "107.    Malaysia \n",
      "108.    Maldives \n",
      "109.    Mali \n",
      "110.    Malta \n",
      "111.    Marshall Islands \n",
      "112.    Mauritania \n",
      "113.    Mauritius \n",
      "114.    Mexico \n",
      "115.    Micronesia, Federated States of \n",
      "116.    Moldova \n",
      "117.    Monaco \n",
      "118.    Mongolia \n",
      "119.    Montenegro \n",
      "120.    Morocco \n",
      "121.    Mozambique \n",
      "122.    Myanmar\n",
      "123.   Namibia \n",
      "124.    Nauru \n",
      "125.      Nepal \n",
      "126.    Netherlands \n",
      "127.    New Zealand \n",
      "128.    Nicaragua \n",
      "129.    Niger \n",
      "130.    Nigeria \n",
      "131.    North Macedonia \n",
      "132.    Norway\n",
      "133.   Oman\n",
      "134.   Pakistan \n",
      "135.    Palau \n",
      "136.    Palestine \n",
      "137.    Panama \n",
      "138.    Papua New Guinea \n",
      "139.    Paraguay \n",
      "140.    Peru \n",
      "141.    Philippines \n",
      "142.    Poland \n",
      "143.    Portugal\n",
      "144.   Qatar\n",
      "145.   Romania \n",
      "146.    Russia \n",
      "147.    Rwanda\n",
      "148.   Saint Kitts and Nevis \n",
      "149.    Saint Lucia \n",
      "150.    Saint Vincent and the Grenadines \n",
      "151.    Samoa \n",
      "152.    San Marino \n",
      "153.    São Tomé and Príncipe \n",
      "154.    Saudi Arabia \n",
      "155.    Senegal \n",
      "156.    Serbia \n",
      "157.    Seychelles \n",
      "158.    Sierra Leone \n",
      "159.    Singapore \n",
      "160.    Slovakia \n",
      "161.    Slovenia \n",
      "162.    Solomon Islands \n",
      "163.    Somalia \n",
      "164.    South Africa \n",
      "165.    South Sudan \n",
      "166.    Spain \n",
      "167.    Sri Lanka \n",
      "168.    Sudan \n",
      "169.    Suriname \n",
      "170.    Sweden \n",
      "171.     Switzerland \n",
      "172.    Syria\n",
      "173.   Tajikistan \n",
      "174.    Tanzania \n",
      "175.    Thailand \n",
      "176.    Togo \n",
      "177.    Tonga \n",
      "178.    Trinidad and Tobago \n",
      "179.    Tunisia \n",
      "180.    Turkey \n",
      "181.    Turkmenistan \n",
      "182.    Tuvalu\n",
      "183.   Uganda \n",
      "184.    Ukraine \n",
      "185.    United Arab Emirates \n",
      "186.    United Kingdom \n",
      "187.    United States \n",
      "188.    Uruguay \n",
      "189.    Uzbekistan\n",
      "190.   Vanuatu \n",
      "191.     Vatican City (Holy See) \n",
      "192.    Venezuela \n",
      "193.    Vietnam\n",
      "194.   Yemen\n",
      "195.   Zambia \n",
      "196.    Zimbabwe\n",
      "197.   Abkhazia \n",
      "198.    Artsakh \n",
      "199.    Cook Islands \n",
      "200.    Donetsk People's Republic \n",
      "201.    Kosovo \n",
      "202.    Luhansk People's Republic \n",
      "203.    Niue \n",
      "204.    Northern Cyprus \n",
      "205.    Sahrawi Arab Democratic Republic \n",
      "206.    Somaliland \n",
      "207.    South Ossetia \n",
      "208.    Taiwan \n",
      "209.    Transnistria\n"
     ]
    }
   ],
   "source": [
    "# Show unique values\n",
    "for i, name in enumerate(countries['country_name'].unique(), start=1):\n",
    "    print(f\"{i}. {name}\")\n"
   ]
  },
  {
   "cell_type": "code",
   "execution_count": 66,
   "id": "6e511be6-d4d0-455b-95ed-c2ce6adcca78",
   "metadata": {},
   "outputs": [
    {
     "data": {
      "text/html": [
       "<div>\n",
       "<style scoped>\n",
       "    .dataframe tbody tr th:only-of-type {\n",
       "        vertical-align: middle;\n",
       "    }\n",
       "\n",
       "    .dataframe tbody tr th {\n",
       "        vertical-align: top;\n",
       "    }\n",
       "\n",
       "    .dataframe thead th {\n",
       "        text-align: right;\n",
       "    }\n",
       "</style>\n",
       "<table border=\"1\" class=\"dataframe\">\n",
       "  <thead>\n",
       "    <tr style=\"text-align: right;\">\n",
       "      <th></th>\n",
       "      <th>country_name</th>\n",
       "      <th>clean_name</th>\n",
       "    </tr>\n",
       "  </thead>\n",
       "  <tbody>\n",
       "    <tr>\n",
       "      <th>1</th>\n",
       "      <td>Afghanistan</td>\n",
       "      <td>afghanistan</td>\n",
       "    </tr>\n",
       "    <tr>\n",
       "      <th>2</th>\n",
       "      <td>Albania</td>\n",
       "      <td>albania</td>\n",
       "    </tr>\n",
       "    <tr>\n",
       "      <th>3</th>\n",
       "      <td>Algeria</td>\n",
       "      <td>algeria</td>\n",
       "    </tr>\n",
       "    <tr>\n",
       "      <th>4</th>\n",
       "      <td>Andorra</td>\n",
       "      <td>andorra</td>\n",
       "    </tr>\n",
       "    <tr>\n",
       "      <th>5</th>\n",
       "      <td>Angola</td>\n",
       "      <td>angola</td>\n",
       "    </tr>\n",
       "    <tr>\n",
       "      <th>6</th>\n",
       "      <td>Antigua and Barbuda</td>\n",
       "      <td>antigua and barbuda</td>\n",
       "    </tr>\n",
       "    <tr>\n",
       "      <th>7</th>\n",
       "      <td>Argentina</td>\n",
       "      <td>argentina</td>\n",
       "    </tr>\n",
       "    <tr>\n",
       "      <th>8</th>\n",
       "      <td>Armenia</td>\n",
       "      <td>armenia</td>\n",
       "    </tr>\n",
       "    <tr>\n",
       "      <th>9</th>\n",
       "      <td>Australia</td>\n",
       "      <td>australia</td>\n",
       "    </tr>\n",
       "    <tr>\n",
       "      <th>10</th>\n",
       "      <td>Austria</td>\n",
       "      <td>austria</td>\n",
       "    </tr>\n",
       "    <tr>\n",
       "      <th>11</th>\n",
       "      <td>Azerbaijan</td>\n",
       "      <td>azerbaijan</td>\n",
       "    </tr>\n",
       "    <tr>\n",
       "      <th>12</th>\n",
       "      <td>Bahamas, The</td>\n",
       "      <td>the bahamas</td>\n",
       "    </tr>\n",
       "    <tr>\n",
       "      <th>13</th>\n",
       "      <td>Bahrain</td>\n",
       "      <td>bahrain</td>\n",
       "    </tr>\n",
       "    <tr>\n",
       "      <th>14</th>\n",
       "      <td>Bangladesh</td>\n",
       "      <td>bangladesh</td>\n",
       "    </tr>\n",
       "    <tr>\n",
       "      <th>15</th>\n",
       "      <td>Barbados</td>\n",
       "      <td>barbados</td>\n",
       "    </tr>\n",
       "    <tr>\n",
       "      <th>16</th>\n",
       "      <td>Belarus</td>\n",
       "      <td>belarus</td>\n",
       "    </tr>\n",
       "    <tr>\n",
       "      <th>17</th>\n",
       "      <td>Belgium</td>\n",
       "      <td>belgium</td>\n",
       "    </tr>\n",
       "    <tr>\n",
       "      <th>18</th>\n",
       "      <td>Belize</td>\n",
       "      <td>belize</td>\n",
       "    </tr>\n",
       "    <tr>\n",
       "      <th>19</th>\n",
       "      <td>Benin</td>\n",
       "      <td>benin</td>\n",
       "    </tr>\n",
       "    <tr>\n",
       "      <th>20</th>\n",
       "      <td>Bhutan</td>\n",
       "      <td>bhutan</td>\n",
       "    </tr>\n",
       "  </tbody>\n",
       "</table>\n",
       "</div>"
      ],
      "text/plain": [
       "              country_name           clean_name\n",
       "1             Afghanistan           afghanistan\n",
       "2                 Albania               albania\n",
       "3                 Algeria               algeria\n",
       "4                 Andorra               andorra\n",
       "5                  Angola                angola\n",
       "6     Antigua and Barbuda   antigua and barbuda\n",
       "7               Argentina             argentina\n",
       "8                 Armenia               armenia\n",
       "9               Australia             australia\n",
       "10                Austria               austria\n",
       "11              Azerbaijan           azerbaijan\n",
       "12           Bahamas, The           the bahamas\n",
       "13                Bahrain               bahrain\n",
       "14             Bangladesh            bangladesh\n",
       "15               Barbados              barbados\n",
       "16                Belarus               belarus\n",
       "17                Belgium               belgium\n",
       "18                 Belize                belize\n",
       "19                  Benin                 benin\n",
       "20                 Bhutan                bhutan"
      ]
     },
     "execution_count": 66,
     "metadata": {},
     "output_type": "execute_result"
    }
   ],
   "source": [
    "\n",
    "def normalize_country_name(name: str) -> str:\n",
    "    name = str(name).strip().lower()\n",
    "    # Move trailing \", the\" to the front\n",
    "    name = re.sub(r'^(.*),\\s*the$', r'the \\1', name)\n",
    "    # Simplify known long forms\n",
    "    replacements = {\n",
    "        \"china, people's republic of\": \"china\",\n",
    "        \"korea, republic of\": \"south korea\",\n",
    "        \"korea, democratic people's republic of\": \"north korea\",\n",
    "        \"gambia, the\": \"the gambia\",\n",
    "        \"congo, democratic republic of the\": \"democratic republic of the congo\",\n",
    "    }\n",
    "    return replacements.get(name, name)\n",
    "\n",
    "# Apply it \n",
    "countries['clean_name'] = countries['country_name'].map(normalize_country_name)\n",
    "countries[['country_name', 'clean_name']].head(20)\n"
   ]
  },
  {
   "cell_type": "code",
   "execution_count": 67,
   "id": "2fac43b3-40e1-48ea-9d8b-1edca0345c8b",
   "metadata": {},
   "outputs": [],
   "source": [
    "text_lower = \" \".join(tokens_clean).lower()"
   ]
  },
  {
   "cell_type": "code",
   "execution_count": 68,
   "id": "252d7edf-fe86-449c-bdae-be333c629bc8",
   "metadata": {},
   "outputs": [],
   "source": [
    "from collections import Counter"
   ]
  },
  {
   "cell_type": "code",
   "execution_count": 69,
   "id": "d094c14b-301f-4992-af45-2d12af8772f1",
   "metadata": {},
   "outputs": [],
   "source": [
    "def count_phrase(text: str, phrase: str) -> int:\n",
    "   \n",
    "    pat = r\"\\b\" + re.escape(phrase) + r\"\\b\"\n",
    "    return len(re.findall(pat, text))\n",
    "\n",
    "# Build dict of counts for all countries in my cleaned list\n",
    "country_counts = {\n",
    "    c: count_phrase(text_lower, c)\n",
    "    for c in countries['clean_name']\n",
    "}"
   ]
  },
  {
   "cell_type": "code",
   "execution_count": 70,
   "id": "556f2318-c085-4ad1-b865-2559602c3d63",
   "metadata": {},
   "outputs": [],
   "source": [
    "# Create dataframe\n",
    "df_countries = (\n",
    "    pd.Series(country_counts, name=\"Count\")\n",
    "      .reset_index()\n",
    "      .rename(columns={\"index\": \"Country\"})\n",
    "      .query(\"Count > 0\")\n",
    "      .sort_values(\"Count\", ascending=False)\n",
    "      .reset_index(drop=True)\n",
    ")\n",
    "\n"
   ]
  },
  {
   "cell_type": "code",
   "execution_count": 71,
   "id": "37710904-0f4a-4608-bd15-35b18c181ea5",
   "metadata": {},
   "outputs": [
    {
     "data": {
      "text/html": [
       "<div>\n",
       "<style scoped>\n",
       "    .dataframe tbody tr th:only-of-type {\n",
       "        vertical-align: middle;\n",
       "    }\n",
       "\n",
       "    .dataframe tbody tr th {\n",
       "        vertical-align: top;\n",
       "    }\n",
       "\n",
       "    .dataframe thead th {\n",
       "        text-align: right;\n",
       "    }\n",
       "</style>\n",
       "<table border=\"1\" class=\"dataframe\">\n",
       "  <thead>\n",
       "    <tr style=\"text-align: right;\">\n",
       "      <th></th>\n",
       "      <th>Country</th>\n",
       "      <th>Count</th>\n",
       "    </tr>\n",
       "  </thead>\n",
       "  <tbody>\n",
       "    <tr>\n",
       "      <th>0</th>\n",
       "      <td>germany</td>\n",
       "      <td>38</td>\n",
       "    </tr>\n",
       "    <tr>\n",
       "      <th>1</th>\n",
       "      <td>japan</td>\n",
       "      <td>31</td>\n",
       "    </tr>\n",
       "    <tr>\n",
       "      <th>2</th>\n",
       "      <td>united states</td>\n",
       "      <td>22</td>\n",
       "    </tr>\n",
       "    <tr>\n",
       "      <th>3</th>\n",
       "      <td>france</td>\n",
       "      <td>17</td>\n",
       "    </tr>\n",
       "    <tr>\n",
       "      <th>4</th>\n",
       "      <td>poland</td>\n",
       "      <td>13</td>\n",
       "    </tr>\n",
       "    <tr>\n",
       "      <th>5</th>\n",
       "      <td>italy</td>\n",
       "      <td>13</td>\n",
       "    </tr>\n",
       "    <tr>\n",
       "      <th>6</th>\n",
       "      <td>vietnam</td>\n",
       "      <td>13</td>\n",
       "    </tr>\n",
       "    <tr>\n",
       "      <th>7</th>\n",
       "      <td>russia</td>\n",
       "      <td>9</td>\n",
       "    </tr>\n",
       "    <tr>\n",
       "      <th>8</th>\n",
       "      <td>china</td>\n",
       "      <td>9</td>\n",
       "    </tr>\n",
       "    <tr>\n",
       "      <th>9</th>\n",
       "      <td>india</td>\n",
       "      <td>9</td>\n",
       "    </tr>\n",
       "  </tbody>\n",
       "</table>\n",
       "</div>"
      ],
      "text/plain": [
       "         Country  Count\n",
       "0        germany     38\n",
       "1          japan     31\n",
       "2  united states     22\n",
       "3         france     17\n",
       "4         poland     13\n",
       "5          italy     13\n",
       "6        vietnam     13\n",
       "7         russia      9\n",
       "8          china      9\n",
       "9          india      9"
      ]
     },
     "execution_count": 71,
     "metadata": {},
     "output_type": "execute_result"
    }
   ],
   "source": [
    "df_countries.head(10)"
   ]
  },
  {
   "cell_type": "code",
   "execution_count": 72,
   "id": "482fed0d-67a9-4713-be0e-679bb8cf04fb",
   "metadata": {},
   "outputs": [
    {
     "name": "stdout",
     "output_type": "stream",
     "text": [
      "CSV saved\n"
     ]
    }
   ],
   "source": [
    "# Save the full table\n",
    "df_countries.to_csv(os.path.join(path, \"country_mentions.csv\"), index=False)\n",
    "print(\"CSV saved\")\n"
   ]
  },
  {
   "cell_type": "code",
   "execution_count": 73,
   "id": "532b29b4-a300-451f-9384-c23bd13f330c",
   "metadata": {},
   "outputs": [
    {
     "data": {
      "image/png": "[encoded data removed]",
      "text/plain": [
       "<Figure size 900x600 with 1 Axes>"
      ]
     },
     "metadata": {},
     "output_type": "display_data"
    },
    {
     "name": "stdout",
     "output_type": "stream",
     "text": [
      "Chart saved: /Users/ianfleming/20th-century/top15_countries.png\n"
     ]
    }
   ],
   "source": [
    "# Plot & save the top 15\n",
    "df_top15 = df_countries.head(15)\n",
    "plot_show_and_save(\n",
    "    df_top15,\n",
    "    \"Top 15 Country Mentions\",\n",
    "    \"top15_countries.png\",\n",
    "    path,\n",
    "    y_col=\"Country\"\n",
    ")\n",
    "\n"
   ]
  },
  {
   "cell_type": "markdown",
   "id": "8db7ef70-b5d4-4b2f-9aaa-712f6eb179f7",
   "metadata": {},
   "source": [
    "### Top 15 Country Mentions\n",
    "\n",
    "The bar chart shows the countries most frequently mentioned in the 20th-century text dataset. Germany and Japan dominate the list, reflecting their central roles in 20th-century global events, particularly the World Wars and post-war developments. The United States, France, and Italy also appear prominently, indicating their significant geopolitical influence during the same period.\n"
   ]
  },
  {
   "cell_type": "code",
   "execution_count": null,
   "id": "c7d0433e-d1ab-4bdd-be88-adf304a1a5a0",
   "metadata": {},
   "outputs": [],
   "source": []
  },
  {
   "cell_type": "code",
   "execution_count": null,
   "id": "18d69d40-8734-49e7-8424-a893663c0df7",
   "metadata": {},
   "outputs": [],
   "source": []
  },
  {
   "cell_type": "code",
   "execution_count": null,
   "id": "9719b4db-b227-44f4-be80-7c3bee13b0b6",
   "metadata": {},
   "outputs": [],
   "source": []
  },
  {
   "cell_type": "code",
   "execution_count": null,
   "id": "20b4826d-d830-4106-8753-4b5439e7e6de",
   "metadata": {},
   "outputs": [],
   "source": []
  }
 ],
 "metadata": {
  "kernelspec": {
   "display_name": "Python 3.9 (20th_century)",
   "language": "python",
   "name": "20th_century"
  },
  "language_info": {
   "codemirror_mode": {
    "name": "ipython",
    "version": 3
   },
   "file_extension": ".py",
   "mimetype": "text/x-python",
   "name": "python",
   "nbconvert_exporter": "python",
   "pygments_lexer": "ipython3",
   "version": "3.9.23"
  }
 },
 "nbformat": 4,
 "nbformat_minor": 5
}
