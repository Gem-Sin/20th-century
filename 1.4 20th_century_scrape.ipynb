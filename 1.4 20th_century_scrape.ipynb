{
 "cells": [
  {
   "cell_type": "code",
   "execution_count": null,
   "id": "077b8d2d-477c-4c63-aafd-626cae1a7cbe",
   "metadata": {},
   "outputs": [],
   "source": []
  },
  {
   "cell_type": "markdown",
   "id": "a904d215-a262-4aaa-8c3c-35d1a0fc95ea",
   "metadata": {},
   "source": [
    "# This script contains the following:\n",
    "## 1. Import libraries\n",
    "## 2. Fetch webpage and inspect\n",
    "## 3. Scrape webpage"
   ]
  },
  {
   "cell_type": "markdown",
   "id": "7ef69324-3400-403d-99d6-de24aede91ef",
   "metadata": {},
   "source": [
    "### 1. Import libraries"
   ]
  },
  {
   "cell_type": "code",
   "execution_count": 1,
   "id": "c29c5702-3961-4e3f-a074-9d79163da966",
   "metadata": {},
   "outputs": [
    {
     "name": "stdout",
     "output_type": "stream",
     "text": [
      "Libraries imported successfully\n"
     ]
    }
   ],
   "source": [
    "# Import lubraries\n",
    "import requests\n",
    "from bs4 import BeautifulSoup\n",
    "from pathlib import Path\n",
    "import re\n",
    "\n",
    "print(\"Libraries imported successfully\")\n"
   ]
  },
  {
   "cell_type": "code",
   "execution_count": 2,
   "id": "4f630e19-839b-46f1-a25a-a715a9d3792b",
   "metadata": {},
   "outputs": [],
   "source": [
    "from selenium import webdriver\n",
    "from selenium.webdriver.chrome.service import Service\n",
    "from webdriver_manager.chrome import ChromeDriverManager\n",
    "from bs4 import BeautifulSoup\n",
    "import time"
   ]
  },
  {
   "cell_type": "markdown",
   "id": "3897f8b5-aaaa-4f23-8264-d51bf1d401c0",
   "metadata": {},
   "source": [
    "### 2. Fetch webpage and inspect"
   ]
  },
  {
   "cell_type": "code",
   "execution_count": 3,
   "id": "a1ca8611-78b4-492e-8737-6a4b648c4fb5",
   "metadata": {},
   "outputs": [],
   "source": [
    "# Fetch webpage\n",
    "url = \"https://en.wikipedia.org/wiki/Key_events_of_the_20th_century\"\n",
    "\n",
    "headers = {\n",
    "    \"User-Agent\": (\n",
    "        \"Mozilla/5.0 (Macintosh; Intel Mac OS X 10_15_7) \"\n",
    "        \"AppleWebKit/537.36 (KHTML, like Gecko) \"\n",
    "        \"Chrome/118.0.0.0 Safari/537.36\"\n",
    "    )\n",
    "}\n"
   ]
  },
  {
   "cell_type": "code",
   "execution_count": 4,
   "id": "2255043a-6cf0-4271-a421-da5375b8392b",
   "metadata": {},
   "outputs": [],
   "source": [
    "response = requests.get(url, headers=headers, timeout=30)\n",
    "response.raise_for_status()"
   ]
  },
  {
   "cell_type": "code",
   "execution_count": 5,
   "id": "d4a9c2c1-4655-4a6c-b91a-8179bd099e0e",
   "metadata": {},
   "outputs": [
    {
     "name": "stdout",
     "output_type": "stream",
     "text": [
      "Status code: 200\n",
      "<!DOCTYPE html>\n",
      "<html class=\"client-nojs vector-feature-language-in-header-enabled vector-feature-language-in-main-page-header-disabled vector-feature-page-tools-pinned-disabled vector-feature-toc-pinned-clientpref-1 vector-feature-main-menu-pinned-disabled vector-feature-limited-width-clientpref-1 \n"
     ]
    }
   ],
   "source": [
    "print(\"Status code:\", response.status_code)\n",
    "print(response.text[:300])"
   ]
  },
  {
   "cell_type": "markdown",
   "id": "81a565c7-8c54-4246-b540-b79eee70acc9",
   "metadata": {},
   "source": [
    "### 3. Scrape webpage"
   ]
  },
  {
   "cell_type": "code",
   "execution_count": 6,
   "id": "f93f1e0d-d5b7-40b7-8d9e-23a6e7144b77",
   "metadata": {},
   "outputs": [],
   "source": [
    "soup = BeautifulSoup(response.text, \"html.parser\")\n",
    "body = soup.select_one(\"#mw-content-text .mw-parser-output\")"
   ]
  },
  {
   "cell_type": "code",
   "execution_count": 7,
   "id": "d804e195-40c2-4223-8d07-384cfdd6ee6b",
   "metadata": {},
   "outputs": [],
   "source": [
    "# remove extras\n",
    "for sel in [\"sup.reference\",\"span.mw-editsection\",\"div.navbox\",\"table\",\"style\",\"script\"]:\n",
    "    for tag in body.select(sel):\n",
    "        tag.decompose()\n"
   ]
  },
  {
   "cell_type": "code",
   "execution_count": 8,
   "id": "7fffddc0-c072-4491-b9d5-3d964301422b",
   "metadata": {},
   "outputs": [],
   "source": [
    "text = body.get_text(separator=\"\\n\", strip=True)\n",
    "text = re.sub(r\"\\n{2,}\", \"\\n\\n\", text)"
   ]
  },
  {
   "cell_type": "code",
   "execution_count": 9,
   "id": "107e725e-8b9d-4e3c-b953-25519f46fb3e",
   "metadata": {},
   "outputs": [
    {
     "name": "stdout",
     "output_type": "stream",
     "text": [
      "Saved → /Users/ianfleming/20th-century/key_events_20th_century.txt\n",
      "\n",
      "Preview:\n",
      " The\n",
      "20th century\n",
      "changed the world in unprecedented ways. The\n",
      "World Wars\n",
      "sparked tension between countries and led to the creation of\n",
      "atomic bombs\n",
      ", the\n",
      "Cold War\n",
      "led to the\n",
      "Space Race\n",
      "and the creation of space-based rockets, and the\n",
      "World Wide Web\n",
      "was created. These advancements have played a significant role in citizens' lives and shaped the\n",
      "21st century\n",
      "into what it is today.\n",
      "Historic events in the 20th century\n",
      "World at the beginning of the century\n",
      "Main article:\n",
      "Edwardian era\n",
      "The new beginning of the 20th century marked significant changes. The 1900s saw the decade herald a series of inventions, including the\n",
      "automobile\n",
      ",\n",
      "airplane\n",
      "and\n",
      "radio broadcasting\n"
     ]
    }
   ],
   "source": [
    "out_path = Path(\"key_events_20th_century.txt\")\n",
    "out_path.write_text(text, encoding=\"utf-8\")\n",
    "print(f\"Saved → {out_path.resolve()}\")\n",
    "print(\"\\nPreview:\\n\", \"\\n\".join(text.splitlines()[:25]))"
   ]
  },
  {
   "cell_type": "markdown",
   "id": "0bcf02cf-4c59-4a59-83ff-0e2b0ead753e",
   "metadata": {},
   "source": [
    "I tried to use Selenium and ChromeDriver in the 1.4 Alice exercise, but this approach caused version and driver compatibility issues on my Mac.\n",
    "\n",
    "After a ALOT of research,I switched to a simpler and more efficient solution using requests.get() to fetch the page directly and BeautifulSoup to parse and clean the HTML.\n"
   ]
  },
  {
   "cell_type": "code",
   "execution_count": null,
   "id": "aa62abe1-6794-47d4-88a0-c5af3434b219",
   "metadata": {},
   "outputs": [],
   "source": []
  },
  {
   "cell_type": "code",
   "execution_count": null,
   "id": "8e46beb0-985a-40c7-8873-dd528dd12d15",
   "metadata": {},
   "outputs": [],
   "source": []
  },
  {
   "cell_type": "code",
   "execution_count": null,
   "id": "f1c0cd23-d02d-4971-bf64-a922d8754d33",
   "metadata": {},
   "outputs": [],
   "source": []
  },
  {
   "cell_type": "code",
   "execution_count": null,
   "id": "23dd932c-bd66-40ac-a281-618297bdfc0a",
   "metadata": {},
   "outputs": [],
   "source": []
  },
  {
   "cell_type": "code",
   "execution_count": null,
   "id": "caed0bc8-257c-4889-83df-4f0e7cddff29",
   "metadata": {},
   "outputs": [],
   "source": []
  }
 ],
 "metadata": {
  "kernelspec": {
   "display_name": "Python 3.9 (20th_century)",
   "language": "python",
   "name": "20th_century"
  },
  "language_info": {
   "codemirror_mode": {
    "name": "ipython",
    "version": 3
   },
   "file_extension": ".py",
   "mimetype": "text/x-python",
   "name": "python",
   "nbconvert_exporter": "python",
   "pygments_lexer": "ipython3",
   "version": "3.9.23"
  }
 },
 "nbformat": 4,
 "nbformat_minor": 5
}
